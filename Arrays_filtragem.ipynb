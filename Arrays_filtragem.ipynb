{
 "cells": [
  {
   "cell_type": "code",
   "execution_count": 3,
   "id": "22d4f4ca-b34e-4ea0-a761-d9140951b601",
   "metadata": {},
   "outputs": [],
   "source": [
    "import numpy as np"
   ]
  },
  {
   "cell_type": "code",
   "execution_count": 10,
   "id": "88ee4b2f-a2b7-4113-960f-56f1ee713af3",
   "metadata": {},
   "outputs": [
    {
     "data": {
      "text/plain": [
       "array([[ 1, 22],\n",
       "       [ 2, 21],\n",
       "       [ 3, 27],\n",
       "       [ 4, 26]])"
      ]
     },
     "execution_count": 10,
     "metadata": {},
     "output_type": "execute_result"
    }
   ],
   "source": [
    "pessoas_id_idade = np.array([[1,22],[2,21],[3,27],[4,26]])\n",
    "pessoas_id_idade"
   ]
  },
  {
   "cell_type": "code",
   "execution_count": 19,
   "id": "f9afe2c8-b151-4f80-bcc8-9964ac9b83f2",
   "metadata": {},
   "outputs": [
    {
     "data": {
      "text/plain": [
       "array([[ 5, 29,  9,  6],\n",
       "       [19,  7, 18,  3],\n",
       "       [10, 27, 27, 11],\n",
       "       [18, 12, 16, 17]])"
      ]
     },
     "execution_count": 19,
     "metadata": {},
     "output_type": "execute_result"
    }
   ],
   "source": [
    "cartela_bingo = np.random.randint(2,30, size=(4,4))\n",
    "cartela_bingo"
   ]
  },
  {
   "cell_type": "code",
   "execution_count": 29,
   "id": "3262a0d3-78d5-4452-b418-e515eaefca75",
   "metadata": {},
   "outputs": [
    {
     "data": {
      "text/plain": [
       "array([[ 0,  1,  2,  3,  4],\n",
       "       [ 5,  6,  7,  8,  9],\n",
       "       [10, 11, 12, 13, 14],\n",
       "       [15, 16, 17, 18, 19],\n",
       "       [20, 21, 22, 23, 24],\n",
       "       [25, 26, 27, 28, 29]])"
      ]
     },
     "execution_count": 29,
     "metadata": {},
     "output_type": "execute_result"
    }
   ],
   "source": [
    "array = np.arange(0,30,1)\n",
    "array = array.reshape(6,5)\n",
    "array"
   ]
  },
  {
   "cell_type": "markdown",
   "id": "53e0ca24-d5b4-438c-b131-68460f030f0c",
   "metadata": {},
   "source": [
    "### Mask"
   ]
  },
  {
   "cell_type": "markdown",
   "id": "bb81bd92-d578-43e9-9665-b358df0e5d07",
   "metadata": {},
   "source": [
    "Aplica uma condição no array que retorna booleanos "
   ]
  },
  {
   "cell_type": "code",
   "execution_count": 15,
   "id": "4c658326-7dd8-4b34-92d5-3b9f2291b61a",
   "metadata": {},
   "outputs": [
    {
     "data": {
      "text/plain": [
       "array([ True, False, False,  True])"
      ]
     },
     "execution_count": 15,
     "metadata": {},
     "output_type": "execute_result"
    }
   ],
   "source": [
    "mask = pessoas_id_idade[:,1] % 2 == 0 #\n",
    "mask"
   ]
  },
  {
   "cell_type": "markdown",
   "id": "b6e1b758-7799-4521-bd0a-068b111c9655",
   "metadata": {},
   "source": [
    "### Fancy indexing"
   ]
  },
  {
   "cell_type": "markdown",
   "id": "8aff91a6-7c78-4c56-90f8-bbbf4ced39b3",
   "metadata": {},
   "source": [
    "Aplicando no array a variavel mascarada em formato de índice, irá filtrar apenas os resultados que apresentam a condição da mascará"
   ]
  },
  {
   "cell_type": "code",
   "execution_count": 17,
   "id": "392b505b-3880-4fc3-aa74-c99b254b040b",
   "metadata": {},
   "outputs": [
    {
     "data": {
      "text/plain": [
       "array([[ 1, 22],\n",
       "       [ 4, 26]])"
      ]
     },
     "execution_count": 17,
     "metadata": {},
     "output_type": "execute_result"
    }
   ],
   "source": [
    "pessoas_id_idade[mask]"
   ]
  },
  {
   "cell_type": "markdown",
   "id": "724ee8e0-ec22-45b7-91d1-3715b2dac5a1",
   "metadata": {},
   "source": [
    "### np.where()"
   ]
  },
  {
   "cell_type": "markdown",
   "id": "f24aedc9-268a-446a-82e7-ac5554e88a1b",
   "metadata": {},
   "source": [
    "* Retorna um array informando onde se localiza o índice do resultado\n",
    "* Cria uma matriz com base se os elementos correspondem ou não a condição\n",
    "* Busca e substitui"
   ]
  },
  {
   "cell_type": "code",
   "execution_count": 20,
   "id": "6b6ac832-20d1-452d-8d89-e9f013be12c5",
   "metadata": {},
   "outputs": [
    {
     "data": {
      "text/plain": [
       "(array([0, 1, 2, 3, 3, 3], dtype=int64),\n",
       " array([3, 2, 0, 0, 1, 2], dtype=int64))"
      ]
     },
     "execution_count": 20,
     "metadata": {},
     "output_type": "execute_result"
    }
   ],
   "source": [
    "np.where(cartela_bingo % 2 ==0)"
   ]
  },
  {
   "cell_type": "markdown",
   "id": "2a29f9b3-4d55-45e9-a744-bfb19f7ce01c",
   "metadata": {},
   "source": [
    "(array([0, 1, 2, 3, 3, 3], dtype=int64), <strong>linha</strong>\n",
    "\n",
    " array([3, 2, 0, 0, 1, 2], dtype=int64)) <strong>coluna</strong>"
   ]
  },
  {
   "cell_type": "code",
   "execution_count": 22,
   "id": "fac58b87-9dbe-4f47-946f-a03a7db780f9",
   "metadata": {},
   "outputs": [
    {
     "data": {
      "text/plain": [
       "(array([0, 3], dtype=int64),)"
      ]
     },
     "execution_count": 22,
     "metadata": {},
     "output_type": "execute_result"
    }
   ],
   "source": [
    "np.where(pessoas_id_idade[:,1]% 2 ==0)"
   ]
  },
  {
   "cell_type": "code",
   "execution_count": 31,
   "id": "8c3133d2-2be9-483c-b3f6-efffe2ab1d60",
   "metadata": {},
   "outputs": [
    {
     "data": {
      "text/plain": [
       "array([['viado', 'sapatao', 'viado'],\n",
       "       ['sapatao', 'viado', 'sapatao'],\n",
       "       ['viado', 'sapatao', 'viado'],\n",
       "       ['sapatao', 'viado', 'sapatao']], dtype='<U7')"
      ]
     },
     "execution_count": 31,
     "metadata": {},
     "output_type": "execute_result"
    }
   ],
   "source": [
    "np.where(array[0:4, 0:3] % 2 == 0, \"viado\", \"sapatao\") #np.where(array[indexacao ou tudo só nao colocar] condicao, \"aplica isso\",\"não aplica\")"
   ]
  },
  {
   "cell_type": "code",
   "execution_count": 34,
   "id": "93ddd652-adfb-421f-a2ce-6001d6ef2bf9",
   "metadata": {},
   "outputs": [
    {
     "data": {
      "text/plain": [
       "array([[     1,      1,      1, 999999],\n",
       "       [     1,      1, 999999,      1],\n",
       "       [999999,      1,      1,      1],\n",
       "       [999999, 999999, 999999,      1]])"
      ]
     },
     "execution_count": 34,
     "metadata": {},
     "output_type": "execute_result"
    }
   ],
   "source": [
    "np.where(cartela_bingo % 2 == 0, 999999, 1)"
   ]
  },
  {
   "cell_type": "code",
   "execution_count": 45,
   "id": "ee78334e-737e-43b6-abe0-9558e62d9f20",
   "metadata": {},
   "outputs": [
    {
     "data": {
      "text/plain": [
       "array([['1', 'maior de idade'],\n",
       "       ['2', '21'],\n",
       "       ['3', 'maior de idade'],\n",
       "       ['4', 'maior de idade']], dtype='<U14')"
      ]
     },
     "execution_count": 45,
     "metadata": {},
     "output_type": "execute_result"
    }
   ],
   "source": [
    "p = np.where(pessoas_id_idade >= 22, \"maior de idade\", pessoas_id_idade )\n",
    "p"
   ]
  },
  {
   "cell_type": "code",
   "execution_count": 48,
   "id": "45176b98-da2d-414e-873b-4e97cd976dcd",
   "metadata": {},
   "outputs": [
    {
     "name": "stdout",
     "output_type": "stream",
     "text": [
      "<class 'numpy.ndarray'>\n",
      "<U14\n"
     ]
    }
   ],
   "source": [
    "print(type(p))\n",
    "print(p.dtype)"
   ]
  },
  {
   "cell_type": "code",
   "execution_count": 49,
   "id": "728f54de-d5c4-405a-ae43-87943965674a",
   "metadata": {},
   "outputs": [
    {
     "name": "stdout",
     "output_type": "stream",
     "text": [
      "<class 'numpy.str_'>\n"
     ]
    }
   ],
   "source": [
    "print(type(p[0,0]))"
   ]
  },
  {
   "cell_type": "markdown",
   "id": "e242359c-f6f9-4e2e-84c9-40c335e250f7",
   "metadata": {},
   "source": [
    "  "
   ]
  },
  {
   "cell_type": "markdown",
   "id": "139f56fb-5d3b-442b-a3f6-9043aa06781b",
   "metadata": {},
   "source": [
    "  "
   ]
  },
  {
   "cell_type": "markdown",
   "id": "1c248a00-cdf9-4f7d-bfaa-06c60b25ab97",
   "metadata": {},
   "source": [
    "  "
   ]
  },
  {
   "cell_type": "markdown",
   "id": "192d9165-c978-43c7-9f96-824552952c48",
   "metadata": {},
   "source": [
    "  "
   ]
  },
  {
   "cell_type": "markdown",
   "id": "9673fcd0-dce3-4235-90c7-fd20c1dc0d14",
   "metadata": {},
   "source": [
    "# Atividade"
   ]
  },
  {
   "cell_type": "markdown",
   "id": "db9f9311-6bb2-40dd-a8eb-4a9402e3321b",
   "metadata": {},
   "source": [
    "Ainda usando o Array de espécies marítimas.\n",
    "* Usando um index booleano crie um array que contém os dados da maior espécie encontrada (considerando o seu tamanho), esse valor corresponde ao valor 22.\n",
    "* Usando fency index faça um array que contém apenas dados da espécie com ID 297\n",
    "* Usando np.where() faça um array com a linha com dados correspondentes a espécie com 105 representantes encontrados.\n",
    "* Considere a profundeza em que o espécie foi encontrada substitua valores maiores que 60 com \"Profundo\""
   ]
  },
  {
   "cell_type": "code",
   "execution_count": 52,
   "id": "7c770a30-8fa1-44bf-aec0-ff3fecd69d8b",
   "metadata": {},
   "outputs": [],
   "source": [
    "# ID da espécie, quantidade de representantes encontrados, profundeza, tamanho médio da espécie\n",
    "\n",
    "especies = np.array([[747,  89,  33,   5],\n",
    "                    [623, 123,  32,  13],\n",
    "                    [501,  22,  49,   2],\n",
    "                    [116, 101,  42,  10],\n",
    "                    [297,  56,  69,  22],\n",
    "                    [613,  64,  27,   7],\n",
    "                    [295,  84,  29,  14],\n",
    "                    [692, 105,  72,  16],\n",
    "                    [229, 103,  35,   5],\n",
    "                    [374, 124,  70,   1]])"
   ]
  },
  {
   "cell_type": "code",
   "execution_count": 82,
   "id": "a6118d67-5925-4711-91e1-020853b99206",
   "metadata": {},
   "outputs": [
    {
     "data": {
      "text/plain": [
       "array([False, False, False, False,  True, False, False, False, False,\n",
       "       False])"
      ]
     },
     "execution_count": 82,
     "metadata": {},
     "output_type": "execute_result"
    }
   ],
   "source": [
    "mask = especies[:,3] >= 22\n",
    "mask"
   ]
  },
  {
   "cell_type": "code",
   "execution_count": 83,
   "id": "9a0c61ca-c146-4479-a0fe-4e10b2a009e1",
   "metadata": {},
   "outputs": [
    {
     "data": {
      "text/plain": [
       "array([[297,  56,  69,  22]])"
      ]
     },
     "execution_count": 83,
     "metadata": {},
     "output_type": "execute_result"
    }
   ],
   "source": [
    "especies[mask]"
   ]
  },
  {
   "cell_type": "code",
   "execution_count": 89,
   "id": "62e31e69-9bc4-4bd4-a2f4-f26a561a2538",
   "metadata": {},
   "outputs": [
    {
     "data": {
      "text/plain": [
       "array([False, False, False, False,  True, False, False, False, False,\n",
       "       False])"
      ]
     },
     "execution_count": 89,
     "metadata": {},
     "output_type": "execute_result"
    }
   ],
   "source": [
    "id297 = especies[:,0] == 297\n",
    "id297"
   ]
  },
  {
   "cell_type": "code",
   "execution_count": 90,
   "id": "682fe2e3-9693-4d16-ba84-430ea1494591",
   "metadata": {},
   "outputs": [
    {
     "data": {
      "text/plain": [
       "array([[297,  56,  69,  22]])"
      ]
     },
     "execution_count": 90,
     "metadata": {},
     "output_type": "execute_result"
    }
   ],
   "source": [
    "especies[id297]"
   ]
  },
  {
   "cell_type": "code",
   "execution_count": 104,
   "id": "bd0280d7-b521-4c1a-a5e3-0fdaf1ad2301",
   "metadata": {},
   "outputs": [
    {
     "data": {
      "text/plain": [
       "array([False, False, False, False, False, False, False,  True, False,\n",
       "       False])"
      ]
     },
     "execution_count": 104,
     "metadata": {},
     "output_type": "execute_result"
    }
   ],
   "source": [
    "mask = especies[:,1] == 105\n",
    "mask"
   ]
  },
  {
   "cell_type": "code",
   "execution_count": 105,
   "id": "fc2ab48e-68c7-4995-ba93-b6a38d580e23",
   "metadata": {},
   "outputs": [
    {
     "data": {
      "text/plain": [
       "array([[692, 105,  72,  16]])"
      ]
     },
     "execution_count": 105,
     "metadata": {},
     "output_type": "execute_result"
    }
   ],
   "source": [
    "reshape = especies[mask]\n",
    "reshape"
   ]
  },
  {
   "cell_type": "code",
   "execution_count": 106,
   "id": "8d61cc0f-db71-4b88-bce1-dd46f41adaf7",
   "metadata": {},
   "outputs": [
    {
     "data": {
      "text/plain": [
       "array([[692],\n",
       "       [105],\n",
       "       [ 72],\n",
       "       [ 16]])"
      ]
     },
     "execution_count": 106,
     "metadata": {},
     "output_type": "execute_result"
    }
   ],
   "source": [
    "reshape.reshape(4,1)"
   ]
  },
  {
   "cell_type": "code",
   "execution_count": 115,
   "id": "b63c7105-89e3-4ae7-bb5d-829169396dd1",
   "metadata": {},
   "outputs": [
    {
     "data": {
      "text/plain": [
       "array(['33', '32', '49', '42', 'profundo', '27', '29', 'profundo', '35',\n",
       "       'profundo'], dtype='<U11')"
      ]
     },
     "execution_count": 115,
     "metadata": {},
     "output_type": "execute_result"
    }
   ],
   "source": [
    "profundos = np.where(especies[:,2]>= 60, \"profundo\", especies[:,2]) # A condição else tem que ter o mesmo formato do if pois estamos filtrando apenas 1 coluna e varias linhas não podemos retornar uma matriz 2d por exemplo\n",
    "profundos"
   ]
  },
  {
   "cell_type": "code",
   "execution_count": null,
   "id": "20375f04-3b62-4982-9dfb-dd99d616c7c3",
   "metadata": {},
   "outputs": [],
   "source": []
  }
 ],
 "metadata": {
  "kernelspec": {
   "display_name": "Python 3 (ipykernel)",
   "language": "python",
   "name": "python3"
  },
  "language_info": {
   "codemirror_mode": {
    "name": "ipython",
    "version": 3
   },
   "file_extension": ".py",
   "mimetype": "text/x-python",
   "name": "python",
   "nbconvert_exporter": "python",
   "pygments_lexer": "ipython3",
   "version": "3.9.18"
  }
 },
 "nbformat": 4,
 "nbformat_minor": 5
}
