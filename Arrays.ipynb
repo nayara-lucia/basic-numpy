{
 "cells": [
  {
   "cell_type": "code",
   "execution_count": 1,
   "id": "6c12885f-d577-4994-85be-584b1b82c464",
   "metadata": {},
   "outputs": [],
   "source": [
    "import numpy as np"
   ]
  },
  {
   "cell_type": "code",
   "execution_count": 16,
   "id": "52a6908b-1e94-48e3-90a2-9e6d59a19f34",
   "metadata": {},
   "outputs": [
    {
     "data": {
      "text/plain": [
       "[1, 2, 3, 4, 5, 6]"
      ]
     },
     "execution_count": 16,
     "metadata": {},
     "output_type": "execute_result"
    }
   ],
   "source": [
    "# Arrays podem ser criados através de listas\n",
    "\n",
    "l = [1,2,3,4,5,6]\n",
    "l"
   ]
  },
  {
   "cell_type": "markdown",
   "id": "93b0c5c9-d8b1-48a8-8b3d-743e778a8738",
   "metadata": {
    "jp-MarkdownHeadingCollapsed": true,
    "tags": []
   },
   "source": [
    "### np.array()"
   ]
  },
  {
   "cell_type": "code",
   "execution_count": 59,
   "id": "daa723c2-9c7b-4b96-afac-5e46c6b400fb",
   "metadata": {},
   "outputs": [
    {
     "name": "stdout",
     "output_type": "stream",
     "text": [
      "(6,)\n"
     ]
    }
   ],
   "source": [
    "# Array de 1 dimensão tamanho 6\n",
    "array_1d = np.array(l)\n",
    "array_1d"
   ]
  },
  {
   "cell_type": "code",
   "execution_count": 18,
   "id": "f796f7c2-59fa-4794-a5e4-0ea0e1761e99",
   "metadata": {},
   "outputs": [
    {
     "name": "stdout",
     "output_type": "stream",
     "text": [
      "<class 'numpy.ndarray'>\n"
     ]
    }
   ],
   "source": [
    "print(type(array_1d))"
   ]
  },
  {
   "cell_type": "code",
   "execution_count": 37,
   "id": "5df9947a-fc8c-4532-83f7-819ba1d4364f",
   "metadata": {},
   "outputs": [
    {
     "name": "stdout",
     "output_type": "stream",
     "text": [
      "[[1 2 3 4 5]\n",
      " [6 7 8 9 0]]\n"
     ]
    }
   ],
   "source": [
    "# Array de 2 dimensões primeira dimensão:2 segunda dimensão: 5\n",
    "\n",
    "array2d = np.array([[1,2,3,4,5],[6,7,8,9,0]])\n",
    "print(array2d)"
   ]
  },
  {
   "cell_type": "code",
   "execution_count": 61,
   "id": "eb4193ad-ce32-42c2-b34a-893ffa04f8a5",
   "metadata": {},
   "outputs": [
    {
     "name": "stdout",
     "output_type": "stream",
     "text": [
      "(2, 5)\n",
      "2\n"
     ]
    }
   ],
   "source": [
    "print(array2d.shape) # Primeira dimensão tamanho 2, Segunda dimensão tamanho 5\n",
    "print(array2d.ndim)"
   ]
  },
  {
   "cell_type": "markdown",
   "id": "946ae8a6-8a83-41b5-8503-90724d1c63ca",
   "metadata": {
    "jp-MarkdownHeadingCollapsed": true,
    "tags": []
   },
   "source": [
    "### np.zeros()"
   ]
  },
  {
   "cell_type": "code",
   "execution_count": 41,
   "id": "8e37c65f-251d-4aa0-952a-c9014c080318",
   "metadata": {},
   "outputs": [
    {
     "data": {
      "text/plain": [
       "array([[[0., 0., 0., 0., 0., 0.],\n",
       "        [0., 0., 0., 0., 0., 0.],\n",
       "        [0., 0., 0., 0., 0., 0.]],\n",
       "\n",
       "       [[0., 0., 0., 0., 0., 0.],\n",
       "        [0., 0., 0., 0., 0., 0.],\n",
       "        [0., 0., 0., 0., 0., 0.]],\n",
       "\n",
       "       [[0., 0., 0., 0., 0., 0.],\n",
       "        [0., 0., 0., 0., 0., 0.],\n",
       "        [0., 0., 0., 0., 0., 0.]],\n",
       "\n",
       "       [[0., 0., 0., 0., 0., 0.],\n",
       "        [0., 0., 0., 0., 0., 0.],\n",
       "        [0., 0., 0., 0., 0., 0.]],\n",
       "\n",
       "       [[0., 0., 0., 0., 0., 0.],\n",
       "        [0., 0., 0., 0., 0., 0.],\n",
       "        [0., 0., 0., 0., 0., 0.]]])"
      ]
     },
     "execution_count": 41,
     "metadata": {},
     "output_type": "execute_result"
    }
   ],
   "source": [
    "# Cria array com zeros\n",
    "# np.zeros recebe uma tupla\n",
    "\n",
    "zeros_array = np.zeros(shape = (5,3,6)) # Shape = (tamanho da 1º dimensao (qnt arrays 2D), tamanho da 2º dimensao (linhas), tamanho da 3º dimensao(colunas))\n",
    "zeros_array"
   ]
  },
  {
   "cell_type": "markdown",
   "id": "4ee34049-62a8-4145-b1c7-332296964d31",
   "metadata": {
    "jp-MarkdownHeadingCollapsed": true,
    "tags": []
   },
   "source": [
    "### np.ones()"
   ]
  },
  {
   "cell_type": "code",
   "execution_count": 42,
   "id": "e78e14b7-e658-468b-8e17-4ef2713ed558",
   "metadata": {},
   "outputs": [
    {
     "data": {
      "text/plain": [
       "array([1., 1.])"
      ]
     },
     "execution_count": 42,
     "metadata": {},
     "output_type": "execute_result"
    }
   ],
   "source": [
    "# Cria array com uns\n",
    "\n",
    "ones = np.ones(2)\n",
    "ones # 1 dimensão com 2 colunas"
   ]
  },
  {
   "cell_type": "code",
   "execution_count": 44,
   "id": "3c5fc1e6-d936-4be7-8fdf-9da471085690",
   "metadata": {},
   "outputs": [
    {
     "data": {
      "text/plain": [
       "array([[1., 1., 1.],\n",
       "       [1., 1., 1.]])"
      ]
     },
     "execution_count": 44,
     "metadata": {},
     "output_type": "execute_result"
    }
   ],
   "source": [
    "ones2 = np.ones([2,3])\n",
    "ones2 # Primeira dimensão com tamanho 2, segunda dimensão com tamanho 3"
   ]
  },
  {
   "cell_type": "code",
   "execution_count": 63,
   "id": "7b342f53-3386-4d9d-b804-a7eb6ce9e7f0",
   "metadata": {},
   "outputs": [
    {
     "name": "stdout",
     "output_type": "stream",
     "text": [
      "(2, 3)\n",
      "2\n"
     ]
    }
   ],
   "source": [
    "print(ones2.shape)\n",
    "print(ones2.ndim)"
   ]
  },
  {
   "cell_type": "markdown",
   "id": "40ab6a00-4b07-41e8-a511-0def279b5852",
   "metadata": {
    "jp-MarkdownHeadingCollapsed": true,
    "tags": []
   },
   "source": [
    "### np.ramdom.ramdom()"
   ]
  },
  {
   "cell_type": "code",
   "execution_count": 92,
   "id": "a39baaeb-9861-4eca-aa74-dc4aedd71c93",
   "metadata": {},
   "outputs": [
    {
     "data": {
      "text/plain": [
       "array([[0.00494273, 0.87622235, 0.83104724],\n",
       "       [0.50962466, 0.05974031, 0.52249324]])"
      ]
     },
     "execution_count": 92,
     "metadata": {},
     "output_type": "execute_result"
    }
   ],
   "source": [
    "# Cria um array com valores randomicos de 0 a 1\n",
    "# np.random.random recebe uma tupla!\n",
    "\n",
    "array_randomico = np.random.random((2,3))\n",
    "array_randomico"
   ]
  },
  {
   "cell_type": "markdown",
   "id": "b8789239-b7d3-4353-b6fb-bd79960004a0",
   "metadata": {
    "jp-MarkdownHeadingCollapsed": true,
    "tags": []
   },
   "source": [
    "### np.empty()"
   ]
  },
  {
   "cell_type": "code",
   "execution_count": 2,
   "id": "d06ae98f-98ad-4c3d-93c2-f34e1ba94239",
   "metadata": {},
   "outputs": [
    {
     "data": {
      "text/plain": [
       "array([[2.44088554e-154, 1.03845125e-028],\n",
       "       [4.83245961e+276, 9.08367229e+223],\n",
       "       [6.01347002e-154, 1.14448609e+243],\n",
       "       [1.94210903e+227, 9.13612771e+242],\n",
       "       [6.62274284e+265, 1.87673449e-152]])"
      ]
     },
     "execution_count": 2,
     "metadata": {},
     "output_type": "execute_result"
    }
   ],
   "source": [
    "# Cria array não vazio\n",
    "\n",
    "nao_vazio = np.empty([5,2]) # Array 1º dimensao: tamanho 2, 2ºdimensao: tamanho 3\n",
    "nao_vazio"
   ]
  },
  {
   "cell_type": "code",
   "execution_count": 3,
   "id": "8b9b7c31-cf64-46c1-a72f-0e6800e46a0e",
   "metadata": {},
   "outputs": [
    {
     "name": "stdout",
     "output_type": "stream",
     "text": [
      "<class 'numpy.ndarray'>\n"
     ]
    }
   ],
   "source": [
    "print(type(nao_vazio))"
   ]
  },
  {
   "cell_type": "markdown",
   "id": "d4095af5-a666-4ea6-8183-880ea6ff44b9",
   "metadata": {
    "jp-MarkdownHeadingCollapsed": true,
    "tags": []
   },
   "source": [
    "### np.arange()"
   ]
  },
  {
   "cell_type": "code",
   "execution_count": 4,
   "id": "cca07593-624c-4678-a7eb-a6a02ef96cc8",
   "metadata": {},
   "outputs": [
    {
     "data": {
      "text/plain": [
       "array([ 30,  50,  70,  90, 110, 130, 150, 170, 190])"
      ]
     },
     "execution_count": 4,
     "metadata": {},
     "output_type": "execute_result"
    }
   ],
   "source": [
    "# Cria um array aleatório a partir de um intervalo setado pulando de x em x\n",
    "arr = np.arange(30,200,20)\n",
    "arr"
   ]
  },
  {
   "cell_type": "code",
   "execution_count": 7,
   "id": "00b5eb4d-015e-4d6e-8c34-ef0e3250a16c",
   "metadata": {},
   "outputs": [
    {
     "name": "stdout",
     "output_type": "stream",
     "text": [
      "9\n"
     ]
    }
   ],
   "source": [
    "print(arr.size)"
   ]
  },
  {
   "cell_type": "code",
   "execution_count": 9,
   "id": "20f50640-087c-470a-a32b-0f62c38a36e5",
   "metadata": {},
   "outputs": [
    {
     "data": {
      "text/plain": [
       "array([[ 30,  50,  70],\n",
       "       [ 90, 110, 130],\n",
       "       [150, 170, 190]])"
      ]
     },
     "execution_count": 9,
     "metadata": {},
     "output_type": "execute_result"
    }
   ],
   "source": [
    "arr.reshape(3,3)"
   ]
  },
  {
   "cell_type": "markdown",
   "id": "7cc894c4-bfea-465a-9623-e6a7e5789538",
   "metadata": {
    "jp-MarkdownHeadingCollapsed": true,
    "tags": []
   },
   "source": [
    "### np.delete()"
   ]
  },
  {
   "cell_type": "code",
   "execution_count": 14,
   "id": "8c0dd0f6-6396-4a55-8e21-d44a0c22f06a",
   "metadata": {},
   "outputs": [
    {
     "data": {
      "text/plain": [
       "array([[ 1, 17,  0,  0],\n",
       "       [31, 38, 37,  1],\n",
       "       [23,  0, 16, 30],\n",
       "       [25, 21, 34, 26]])"
      ]
     },
     "execution_count": 14,
     "metadata": {},
     "output_type": "execute_result"
    }
   ],
   "source": [
    "dados = np.random.randint(0,40, size=(4,4))\n",
    "dados"
   ]
  },
  {
   "cell_type": "code",
   "execution_count": 15,
   "id": "ce370d75-0823-42a5-b07a-fdc9599eb4a6",
   "metadata": {},
   "outputs": [
    {
     "data": {
      "text/plain": [
       "array([[ 1, 17,  0],\n",
       "       [31, 38,  1],\n",
       "       [23,  0, 30],\n",
       "       [25, 21, 26]])"
      ]
     },
     "execution_count": 15,
     "metadata": {},
     "output_type": "execute_result"
    }
   ],
   "source": [
    "# Indicamos o array\n",
    "# Idicamos o indice que queremos deletar\n",
    "# Indicamos o eixo\n",
    "\n",
    "dados = np.delete(dados, 2, axis=1)\n",
    "dados"
   ]
  },
  {
   "cell_type": "code",
   "execution_count": 24,
   "id": "2fa7dcdc-04bc-4e4a-a08a-584bea5fc806",
   "metadata": {},
   "outputs": [
    {
     "data": {
      "text/plain": [
       "array([['5', '6', '7', 'Ana Lice'],\n",
       "       ['6', '8', '9', 'Roger'],\n",
       "       ['7', '19', '2', 'Lucia'],\n",
       "       ['9', '11', '1', 'Firmino']], dtype='<U11')"
      ]
     },
     "execution_count": 24,
     "metadata": {},
     "output_type": "execute_result"
    }
   ],
   "source": [
    "sala_espera = np.array([\n",
    "['5',6,7, 'Ana Lice'],\n",
    "['6',8,9, 'Roger'],\n",
    "['7',19,2, 'Lucia'],\n",
    "['9',11,1, 'Firmino']\n",
    "]\n",
    ")\n",
    "sala_espera"
   ]
  },
  {
   "cell_type": "code",
   "execution_count": 25,
   "id": "c9704873-d294-4417-b607-92efb3ee3b36",
   "metadata": {},
   "outputs": [
    {
     "data": {
      "text/plain": [
       "array([['5', '6', '7', 'Ana Lice'],\n",
       "       ['6', '8', '9', 'Roger'],\n",
       "       ['9', '11', '1', 'Firmino']], dtype='<U11')"
      ]
     },
     "execution_count": 25,
     "metadata": {},
     "output_type": "execute_result"
    }
   ],
   "source": [
    "sala_espera = np.delete(sala_espera, 2, axis= 0)\n",
    "sala_espera"
   ]
  },
  {
   "cell_type": "markdown",
   "id": "282f6129-5414-4ced-9ced-2d25010e6a8e",
   "metadata": {
    "tags": []
   },
   "source": [
    "### Modificando o shape do Array"
   ]
  },
  {
   "cell_type": "markdown",
   "id": "82091fb8-892c-4cc9-8715-d9a5e747c866",
   "metadata": {
    "jp-MarkdownHeadingCollapsed": true,
    "tags": []
   },
   "source": [
    "### .reshape()"
   ]
  },
  {
   "cell_type": "code",
   "execution_count": 22,
   "id": "4498c58e-bbf6-48a4-95c6-47622d621c36",
   "metadata": {},
   "outputs": [
    {
     "data": {
      "text/plain": [
       "array([[1, 2, 3, 4],\n",
       "       [5, 4, 3, 2]])"
      ]
     },
     "execution_count": 22,
     "metadata": {},
     "output_type": "execute_result"
    }
   ],
   "source": [
    "arr = np.array([[1,2,3,4],[5,4,3,2]]) # 2D array: primeira dimensão = linha, segunda dimensão = coluna\n",
    "arr"
   ]
  },
  {
   "cell_type": "code",
   "execution_count": 23,
   "id": "48bd69e2-671e-4847-8559-ec3367911041",
   "metadata": {},
   "outputs": [
    {
     "data": {
      "text/plain": [
       "array([[1, 2],\n",
       "       [3, 4],\n",
       "       [5, 4],\n",
       "       [3, 2]])"
      ]
     },
     "execution_count": 23,
     "metadata": {},
     "output_type": "execute_result"
    }
   ],
   "source": [
    "arr.reshape(4,2) # Modificando o shape para o contrario"
   ]
  },
  {
   "cell_type": "markdown",
   "id": "9e0ce882-1303-4ac7-8ee9-56053c18cb73",
   "metadata": {
    "tags": []
   },
   "source": [
    "### Descobrindo tamanhos de arrays"
   ]
  },
  {
   "cell_type": "markdown",
   "id": "42db6a31-d648-408f-8c99-ceeb7c16f5c7",
   "metadata": {
    "jp-MarkdownHeadingCollapsed": true,
    "tags": []
   },
   "source": [
    "### .shape() .size() .ndim()"
   ]
  },
  {
   "cell_type": "code",
   "execution_count": 56,
   "id": "87571b2b-4ed4-4091-931d-66a203e9aa51",
   "metadata": {},
   "outputs": [
    {
     "name": "stdout",
     "output_type": "stream",
     "text": [
      "(5, 3, 6)\n",
      "90\n",
      "3\n"
     ]
    }
   ],
   "source": [
    "print(zeros_array.shape)\n",
    "print(zeros_array.size)\n",
    "print(zeros_array.ndim)"
   ]
  },
  {
   "cell_type": "markdown",
   "id": "8eb4a91e-229d-4bc2-bfd9-096a9799dec1",
   "metadata": {
    "tags": []
   },
   "source": [
    "### Transformando vetor 1D em matriz 2D"
   ]
  },
  {
   "cell_type": "markdown",
   "id": "0151c1d6-5fe3-4d2e-bb51-fca316ba8559",
   "metadata": {
    "jp-MarkdownHeadingCollapsed": true,
    "tags": []
   },
   "source": [
    "### np.newaxis"
   ]
  },
  {
   "cell_type": "code",
   "execution_count": 57,
   "id": "8b061ad6-dfde-49a0-8ffd-e216ebb70f23",
   "metadata": {},
   "outputs": [
    {
     "data": {
      "text/plain": [
       "array([1, 2, 3, 4])"
      ]
     },
     "execution_count": 57,
     "metadata": {},
     "output_type": "execute_result"
    }
   ],
   "source": [
    "a = np.array([1,2,3,4])\n",
    "a"
   ]
  },
  {
   "cell_type": "code",
   "execution_count": 64,
   "id": "9e15d979-7d5a-4e7c-ad5f-8e72b8eafb52",
   "metadata": {},
   "outputs": [
    {
     "data": {
      "text/plain": [
       "array([[1, 2, 3, 4]])"
      ]
     },
     "execution_count": 64,
     "metadata": {},
     "output_type": "execute_result"
    }
   ],
   "source": [
    "b = a[np.newaxis,:] # newaxis cria um novo eixo para coluna\n",
    "b # 1 dimensão com tamanho 1 e a outra dimensão com tamanho 4"
   ]
  },
  {
   "cell_type": "code",
   "execution_count": 65,
   "id": "dd0787ef-2894-4def-a65e-8a7a134bd7bf",
   "metadata": {},
   "outputs": [
    {
     "name": "stdout",
     "output_type": "stream",
     "text": [
      "(1, 4)\n",
      "2\n"
     ]
    }
   ],
   "source": [
    "print(b.shape)\n",
    "print(b.ndim)"
   ]
  },
  {
   "cell_type": "code",
   "execution_count": 66,
   "id": "d03c126d-fd43-479c-9f7a-2002f404e970",
   "metadata": {},
   "outputs": [
    {
     "data": {
      "text/plain": [
       "array([[1],\n",
       "       [2],\n",
       "       [3],\n",
       "       [4]])"
      ]
     },
     "execution_count": 66,
     "metadata": {},
     "output_type": "execute_result"
    }
   ],
   "source": [
    "c = a[:,np.newaxis] # newaxis cria um novo eixo para linha\n",
    "c # Primeira dimensão com tamanho 4 segunda dimensão com tamanho 1"
   ]
  },
  {
   "cell_type": "code",
   "execution_count": 67,
   "id": "d80df417-84a4-4428-873b-22ce029fb753",
   "metadata": {},
   "outputs": [
    {
     "name": "stdout",
     "output_type": "stream",
     "text": [
      "(4, 1)\n",
      "2\n"
     ]
    }
   ],
   "source": [
    "print(c.shape)\n",
    "print(c.ndim)"
   ]
  },
  {
   "cell_type": "markdown",
   "id": "d4d234a4-7724-46ed-b403-4d8f75714e33",
   "metadata": {
    "jp-MarkdownHeadingCollapsed": true,
    "tags": []
   },
   "source": [
    "### Transformando array 2d em 1d\n",
    "### np.flatter()"
   ]
  },
  {
   "cell_type": "code",
   "execution_count": 19,
   "id": "557e44ba-a67a-4154-a74c-d1915b10124d",
   "metadata": {},
   "outputs": [
    {
     "data": {
      "text/plain": [
       "array([[ 1, 10,  6],\n",
       "       [ 0,  2, 10]])"
      ]
     },
     "execution_count": 19,
     "metadata": {},
     "output_type": "execute_result"
    }
   ],
   "source": [
    "# Transforma um array 2d em 1d\n",
    "\n",
    "array = np.random.randint(0, 11, size=(2,3))\n",
    "array "
   ]
  },
  {
   "cell_type": "code",
   "execution_count": 20,
   "id": "16f704b0-6f7d-4aa1-88c1-a63e3cc4f95a",
   "metadata": {},
   "outputs": [
    {
     "data": {
      "text/plain": [
       "array([ 1, 10,  6,  0,  2, 10])"
      ]
     },
     "execution_count": 20,
     "metadata": {},
     "output_type": "execute_result"
    }
   ],
   "source": [
    "array.flatten()"
   ]
  },
  {
   "cell_type": "markdown",
   "id": "ba8865d9-1756-41bd-a2a6-aaeb2cc3927c",
   "metadata": {
    "tags": []
   },
   "source": [
    "### Concatenando arrays "
   ]
  },
  {
   "cell_type": "markdown",
   "id": "ea15cfa4-00e0-4fc8-8700-8f16ea342d0a",
   "metadata": {
    "jp-MarkdownHeadingCollapsed": true,
    "tags": []
   },
   "source": [
    "### np.concatenate()"
   ]
  },
  {
   "cell_type": "code",
   "execution_count": 17,
   "id": "b0ea28d1-30a0-4bd9-be28-abb9134a9908",
   "metadata": {},
   "outputs": [],
   "source": [
    "x = np.array([1,2,3,4,5])\n",
    "z = np.array([10,20,30,40,50])\n"
   ]
  },
  {
   "cell_type": "code",
   "execution_count": 18,
   "id": "fa4c9f7f-7abb-4f64-9ad1-93bab8510022",
   "metadata": {},
   "outputs": [
    {
     "data": {
      "text/plain": [
       "array([10, 20, 30, 40, 50,  1,  2,  3,  4,  5])"
      ]
     },
     "execution_count": 18,
     "metadata": {},
     "output_type": "execute_result"
    }
   ],
   "source": [
    "w = np.concatenate((z,x))\n",
    "w"
   ]
  },
  {
   "cell_type": "code",
   "execution_count": 22,
   "id": "96a56199-dce4-46df-ac7e-ec98c3d9da88",
   "metadata": {},
   "outputs": [
    {
     "data": {
      "text/plain": [
       "array([[10, 20],\n",
       "       [30, 40],\n",
       "       [50,  1],\n",
       "       [ 2,  3],\n",
       "       [ 4,  5]])"
      ]
     },
     "execution_count": 22,
     "metadata": {},
     "output_type": "execute_result"
    }
   ],
   "source": [
    "k=w.reshape((5,2))\n",
    "k"
   ]
  },
  {
   "cell_type": "code",
   "execution_count": 82,
   "id": "ed07a219-e135-4c74-84c9-ea0e160a9fc5",
   "metadata": {},
   "outputs": [
    {
     "name": "stdout",
     "output_type": "stream",
     "text": [
      "(10,)\n",
      "1\n"
     ]
    }
   ],
   "source": [
    "print(w.shape)\n",
    "print(w.ndim)"
   ]
  },
  {
   "cell_type": "code",
   "execution_count": 24,
   "id": "dee5a699-71c3-4cfd-b876-3e6107911493",
   "metadata": {},
   "outputs": [],
   "source": [
    "array1_2d = np.array([[10,20,39],[40,50,60]])\n",
    "array2_2d = np.array([[70,80,90],[2,3,4]])\n",
    "array3_2d = np.array([[6,4,65],[2,8,10]])"
   ]
  },
  {
   "cell_type": "code",
   "execution_count": 25,
   "id": "a8435bd6-0b87-4817-8317-1bf73547234c",
   "metadata": {},
   "outputs": [
    {
     "data": {
      "text/plain": [
       "array([[[10, 20, 39],\n",
       "        [40, 50, 60]],\n",
       "\n",
       "       [[70, 80, 90],\n",
       "        [ 2,  3,  4]],\n",
       "\n",
       "       [[ 6,  4, 65],\n",
       "        [ 2,  8, 10]]])"
      ]
     },
     "execution_count": 25,
     "metadata": {},
     "output_type": "execute_result"
    }
   ],
   "source": [
    "array3d = np.array((array1_2d, array2_2d, array3_2d)) \n",
    "array3d"
   ]
  },
  {
   "cell_type": "markdown",
   "id": "97db1d1e-905b-4fd3-8658-22565cd777a2",
   "metadata": {},
   "source": [
    "  "
   ]
  },
  {
   "cell_type": "code",
   "execution_count": 28,
   "id": "16855ac5-f842-4c8c-ab9d-f43856b174de",
   "metadata": {},
   "outputs": [
    {
     "data": {
      "text/plain": [
       "array([[[[10, 20, 39],\n",
       "         [40, 50, 60]],\n",
       "\n",
       "        [[70, 80, 90],\n",
       "         [ 2,  3,  4]],\n",
       "\n",
       "        [[ 6,  4, 65],\n",
       "         [ 2,  8, 10]]],\n",
       "\n",
       "\n",
       "       [[[10, 20, 39],\n",
       "         [40, 50, 60]],\n",
       "\n",
       "        [[70, 80, 90],\n",
       "         [ 2,  3,  4]],\n",
       "\n",
       "        [[ 6,  4, 65],\n",
       "         [ 2,  8, 10]]]])"
      ]
     },
     "execution_count": 28,
     "metadata": {},
     "output_type": "execute_result"
    }
   ],
   "source": [
    "array4d = np.array((array3d, array3d)) \n",
    "array4d"
   ]
  },
  {
   "cell_type": "code",
   "execution_count": 29,
   "id": "8519a55f-c370-423c-b337-c8660f53c71b",
   "metadata": {},
   "outputs": [
    {
     "name": "stdout",
     "output_type": "stream",
     "text": [
      "(2, 3, 2, 3)\n",
      "4\n"
     ]
    }
   ],
   "source": [
    "print(array4d.shape)\n",
    "print(array4d.ndim)"
   ]
  },
  {
   "cell_type": "markdown",
   "id": "6f421e2d-c993-43a2-8bc5-4bb8c2e3d690",
   "metadata": {},
   "source": [
    "Concatenando colunas"
   ]
  },
  {
   "cell_type": "code",
   "execution_count": 12,
   "id": "62800b7c-22e2-4d98-bdc2-9c5c5abd2afe",
   "metadata": {},
   "outputs": [],
   "source": [
    "arroz = np.array([[1,2,3,4,5],[1,2,3,4,5]])\n",
    "coluna_adicional = np.array([4,5]).reshape(2,1)\n"
   ]
  },
  {
   "cell_type": "code",
   "execution_count": 13,
   "id": "88475237-0b31-440c-922e-642a46613eef",
   "metadata": {},
   "outputs": [
    {
     "data": {
      "text/plain": [
       "array([[1, 2, 3, 4, 5, 4],\n",
       "       [1, 2, 3, 4, 5, 5]])"
      ]
     },
     "execution_count": 13,
     "metadata": {},
     "output_type": "execute_result"
    }
   ],
   "source": [
    "u = np.concatenate((arroz,coluna_adicional), axis=1)\n",
    "u"
   ]
  },
  {
   "cell_type": "code",
   "execution_count": 16,
   "id": "ec13da72-6b1a-4f9c-a61d-e6f8122f89ef",
   "metadata": {},
   "outputs": [
    {
     "data": {
      "text/plain": [
       "array([[ 1,  0,  7, 12],\n",
       "       [ 2, 26, 18, 31],\n",
       "       [ 3, 12,  4,  0],\n",
       "       [25, 29, 22, 19]])"
      ]
     },
     "execution_count": 16,
     "metadata": {},
     "output_type": "execute_result"
    }
   ],
   "source": [
    "dados = np.random.randint(0,40, size=(4,4))\n",
    "dados"
   ]
  },
  {
   "cell_type": "code",
   "execution_count": 17,
   "id": "b831eb54-0f80-4178-85a1-f07e6f2c3756",
   "metadata": {},
   "outputs": [
    {
     "data": {
      "text/plain": [
       "array([[ 2, 26],\n",
       "       [ 3, 12]])"
      ]
     },
     "execution_count": 17,
     "metadata": {},
     "output_type": "execute_result"
    }
   ],
   "source": [
    "cartela1 = dados[1:3, 0:2]\n",
    "cartela1"
   ]
  },
  {
   "cell_type": "code",
   "execution_count": 18,
   "id": "4fec5b84-09d4-4ed8-a7f9-77a93494b91c",
   "metadata": {},
   "outputs": [
    {
     "data": {
      "text/plain": [
       "array([[18, 31],\n",
       "       [ 4,  0]])"
      ]
     },
     "execution_count": 18,
     "metadata": {},
     "output_type": "execute_result"
    }
   ],
   "source": [
    "cartela2 = dados[1:3, 2:4]\n",
    "cartela2"
   ]
  },
  {
   "cell_type": "code",
   "execution_count": 20,
   "id": "855e2377-2279-4b95-81fc-67e9c3c5665a",
   "metadata": {},
   "outputs": [
    {
     "data": {
      "text/plain": [
       "array([[ 2, 26],\n",
       "       [ 3, 12],\n",
       "       [18, 31],\n",
       "       [ 4,  0]])"
      ]
     },
     "execution_count": 20,
     "metadata": {},
     "output_type": "execute_result"
    }
   ],
   "source": [
    "final = np.concatenate((cartela1,cartela2))\n",
    "final"
   ]
  },
  {
   "cell_type": "markdown",
   "id": "9cca19ce-d561-4bdf-b7c7-5a58e78afa72",
   "metadata": {
    "tags": []
   },
   "source": [
    "### Convertendo tipos de dados dos Arrays"
   ]
  },
  {
   "cell_type": "markdown",
   "id": "3da0d71f-fe27-437f-b2a5-fce120fa52f6",
   "metadata": {
    "jp-MarkdownHeadingCollapsed": true,
    "tags": []
   },
   "source": [
    "### .astype()"
   ]
  },
  {
   "cell_type": "code",
   "execution_count": 14,
   "id": "00f4fc84-091c-472c-b2f3-6230f29ab35d",
   "metadata": {},
   "outputs": [
    {
     "name": "stdout",
     "output_type": "stream",
     "text": [
      "int64\n"
     ]
    }
   ],
   "source": [
    "# dtype como argumento\n",
    "\n",
    "array_test = np.array([8,9,10,11], dtype=np.int64)\n",
    "print(array_test.dtype)"
   ]
  },
  {
   "cell_type": "code",
   "execution_count": 15,
   "id": "b49a3c2d-eb48-41d9-8e11-865607e71fa7",
   "metadata": {},
   "outputs": [
    {
     "name": "stderr",
     "output_type": "stream",
     "text": [
      "C:\\Users\\znaya\\AppData\\Local\\Temp\\ipykernel_4024\\4153112444.py:3: DeprecationWarning: `np.bool8` is a deprecated alias for `np.bool_`.  (Deprecated NumPy 1.24)\n",
      "  arr_bol_to_int = np.array([[True,False], [True,True]], dtype=np.bool8)\n"
     ]
    },
    {
     "data": {
      "text/plain": [
       "array([[1, 0],\n",
       "       [1, 1]])"
      ]
     },
     "execution_count": 15,
     "metadata": {},
     "output_type": "execute_result"
    }
   ],
   "source": [
    "# astype\n",
    "\n",
    "arr_bol_to_int = np.array([[True,False], [True,True]], dtype=np.bool8)\n",
    "arr_bol_to_int.astype(np.int32)"
   ]
  },
  {
   "cell_type": "markdown",
   "id": "a0f36f34-bf35-4123-8764-26b933e39449",
   "metadata": {},
   "source": [
    "  "
   ]
  },
  {
   "cell_type": "markdown",
   "id": "fcb41fd9-6fc3-4213-96ef-04d24aa0df87",
   "metadata": {},
   "source": [
    "    \n",
    "    "
   ]
  },
  {
   "cell_type": "markdown",
   "id": "ffc9fbaa-38fd-40a7-9851-54040418bfb9",
   "metadata": {
    "tags": []
   },
   "source": [
    "#### Crie um array com valores inteiros 3 linhas e 5 colunas"
   ]
  },
  {
   "cell_type": "code",
   "execution_count": 103,
   "id": "77f9ccb4-f293-4316-9c46-6d9295f55f4d",
   "metadata": {},
   "outputs": [
    {
     "data": {
      "text/plain": [
       "array([[13, 30, 18, 39, 52],\n",
       "       [94, 83, 91, 81, 63],\n",
       "       [65, 65, 69, 72, 98]])"
      ]
     },
     "execution_count": 103,
     "metadata": {},
     "output_type": "execute_result"
    }
   ],
   "source": [
    "aleatorio_int = np.random.randint(10, 100, size=(3,5))\n",
    "aleatorio_int"
   ]
  },
  {
   "cell_type": "markdown",
   "id": "1318ed7d-286d-4764-84b0-218a83cbc25b",
   "metadata": {},
   "source": [
    "#### Crie um array com 5 colunas e 10 linhas inicializados com zeros"
   ]
  },
  {
   "cell_type": "markdown",
   "id": "1bbc0300-dd95-40e2-aa8d-ef95b676e8f1",
   "metadata": {
    "jp-MarkdownHeadingCollapsed": true,
    "tags": []
   },
   "source": [
    "# Atividades"
   ]
  },
  {
   "cell_type": "code",
   "execution_count": 96,
   "id": "9ce29b4b-613f-4193-a14a-caf9d6b631d6",
   "metadata": {},
   "outputs": [
    {
     "name": "stdout",
     "output_type": "stream",
     "text": [
      "-----\n",
      "(2, 2)\n",
      "2\n"
     ]
    }
   ],
   "source": [
    "array_zeros = np.zeros((2,2))\n",
    "array_zeros\n",
    "print(\"-----\")\n",
    "print(array_zeros.shape)\n",
    "print(array_zeros.ndim)"
   ]
  },
  {
   "cell_type": "markdown",
   "id": "bed3b8d0-b8f8-45aa-a803-0246e24163f6",
   "metadata": {},
   "source": [
    "#### Crie um array com 4 linhas e 3 colunas com valores aleatórios"
   ]
  },
  {
   "cell_type": "code",
   "execution_count": 93,
   "id": "8a2d6f9f-ceac-4683-8472-a00924f2e8e2",
   "metadata": {},
   "outputs": [
    {
     "data": {
      "text/plain": [
       "array([[0.76601065, 0.80649833, 0.31939626],\n",
       "       [0.79939317, 0.60885916, 0.43490742],\n",
       "       [0.17194644, 0.92257407, 0.97664503],\n",
       "       [0.7452769 , 0.2956045 , 0.24125504]])"
      ]
     },
     "execution_count": 93,
     "metadata": {},
     "output_type": "execute_result"
    }
   ],
   "source": [
    "random = np.random.random((4,3))\n",
    "random"
   ]
  },
  {
   "cell_type": "markdown",
   "id": "a4e814a0-b55a-42f4-8dc6-bcd9e95fdbd1",
   "metadata": {},
   "source": [
    "#### Crie um array que vá entre 0 e 90 pulando de 4 em 4"
   ]
  },
  {
   "cell_type": "code",
   "execution_count": 5,
   "id": "05e2e2ee-0f51-4f21-8cdc-70814ce41b63",
   "metadata": {},
   "outputs": [
    {
     "data": {
      "text/plain": [
       "array([ 0,  4,  8, 12, 16, 20, 24, 28, 32, 36, 40, 44, 48, 52, 56, 60, 64,\n",
       "       68, 72, 76, 80, 84, 88])"
      ]
     },
     "execution_count": 5,
     "metadata": {},
     "output_type": "execute_result"
    }
   ],
   "source": [
    "array_array = np.arange(0,91,4)\n",
    "array_array"
   ]
  },
  {
   "cell_type": "markdown",
   "id": "8eca9dde-e903-48e8-9f0b-58ab3663a5eb",
   "metadata": {},
   "source": [
    "  "
   ]
  },
  {
   "cell_type": "markdown",
   "id": "fe567104-a9e5-4a96-bc57-a519f304a7eb",
   "metadata": {},
   "source": [
    "#### Reduza o array (5,7) em apenas uma dimensão"
   ]
  },
  {
   "cell_type": "code",
   "execution_count": null,
   "id": "28720c4d-9079-4268-b2ba-c930ae21347a",
   "metadata": {},
   "outputs": [
    {
     "data": {
      "text/plain": [
       "(5, 7)"
      ]
     },
     "execution_count": 36,
     "metadata": {},
     "output_type": "execute_result"
    }
   ],
   "source": [
    "arr = np.zeros((5,7))\n",
    "arr.ndim\n",
    "arr.shape\n"
   ]
  },
  {
   "cell_type": "code",
   "execution_count": 39,
   "id": "54ec09fd-ae51-427d-9ddc-68d8902435f1",
   "metadata": {},
   "outputs": [
    {
     "data": {
      "text/plain": [
       "array([[0., 0., 0., 0., 0., 0., 0.],\n",
       "       [0., 0., 0., 0., 0., 0., 0.],\n",
       "       [0., 0., 0., 0., 0., 0., 0.],\n",
       "       [0., 0., 0., 0., 0., 0., 0.],\n",
       "       [0., 0., 0., 0., 0., 0., 0.]])"
      ]
     },
     "execution_count": 39,
     "metadata": {},
     "output_type": "execute_result"
    }
   ],
   "source": [
    "arr"
   ]
  },
  {
   "cell_type": "code",
   "execution_count": 43,
   "id": "fb8b2635-6476-4d57-8650-55989909bc99",
   "metadata": {},
   "outputs": [
    {
     "data": {
      "text/plain": [
       "array([0., 0., 0., 0., 0., 0., 0., 0., 0., 0., 0., 0., 0., 0., 0., 0., 0.,\n",
       "       0., 0., 0., 0., 0., 0., 0., 0., 0., 0., 0., 0., 0., 0., 0., 0., 0.,\n",
       "       0.])"
      ]
     },
     "execution_count": 43,
     "metadata": {},
     "output_type": "execute_result"
    }
   ],
   "source": [
    "arr = arr.flatten()\n",
    "arr"
   ]
  },
  {
   "cell_type": "code",
   "execution_count": 46,
   "id": "f146b0d7-577e-4fee-8351-8ba19c9a4a09",
   "metadata": {},
   "outputs": [
    {
     "data": {
      "text/plain": [
       "1"
      ]
     },
     "execution_count": 46,
     "metadata": {},
     "output_type": "execute_result"
    }
   ],
   "source": [
    "arr.ndim"
   ]
  },
  {
   "cell_type": "markdown",
   "id": "c42fcf06-b539-42c7-8347-51ddbc3eb0a7",
   "metadata": {
    "tags": []
   },
   "source": [
    "#### Considerando que você é uma organizadora de um jogo de bingo. Crie um array que irá representar a cartilha desses jogos de bingo. os números da suas cartelas variam entre 1 e 30, e você terá 10 participantes. Cada cartela terá 12 números (4, 3). Crie um array que represente esse jogo"
   ]
  },
  {
   "cell_type": "code",
   "execution_count": 48,
   "id": "e415a095-5b1c-460d-b983-bcc083d2032d",
   "metadata": {},
   "outputs": [
    {
     "data": {
      "text/plain": [
       "array([[[ 2, 27,  7],\n",
       "        [25,  3, 18],\n",
       "        [25,  2,  6],\n",
       "        [ 5, 11,  8]],\n",
       "\n",
       "       [[19, 27,  4],\n",
       "        [16, 29, 21],\n",
       "        [ 8, 11, 29],\n",
       "        [12, 21, 26]],\n",
       "\n",
       "       [[15, 10, 13],\n",
       "        [18, 26,  1],\n",
       "        [30, 10, 22],\n",
       "        [21,  8, 23]],\n",
       "\n",
       "       [[27, 17, 20],\n",
       "        [14, 23, 30],\n",
       "        [ 8, 28, 22],\n",
       "        [ 8,  2, 28]],\n",
       "\n",
       "       [[ 2, 19, 28],\n",
       "        [25, 22, 14],\n",
       "        [14, 16, 14],\n",
       "        [18, 13, 19]],\n",
       "\n",
       "       [[ 3, 13,  3],\n",
       "        [ 2, 17, 15],\n",
       "        [ 6,  4,  3],\n",
       "        [24, 15, 28]],\n",
       "\n",
       "       [[ 4, 26, 17],\n",
       "        [ 7, 24,  2],\n",
       "        [24, 11, 20],\n",
       "        [22,  9, 16]],\n",
       "\n",
       "       [[ 6,  4, 10],\n",
       "        [ 4, 15,  1],\n",
       "        [27,  7, 23],\n",
       "        [12, 12, 15]],\n",
       "\n",
       "       [[30, 25, 25],\n",
       "        [ 8, 26,  6],\n",
       "        [13, 29, 13],\n",
       "        [28, 30, 10]],\n",
       "\n",
       "       [[29,  4, 27],\n",
       "        [13, 22, 19],\n",
       "        [10, 13, 30],\n",
       "        [ 4, 24, 17]]])"
      ]
     },
     "execution_count": 48,
     "metadata": {},
     "output_type": "execute_result"
    }
   ],
   "source": [
    "bingo = np.random.randint(1,31, size=(10,4,3)) # Size: 1º dimensão com 10 cartelas (10 matrizes 2d), 2º dimensão com 4 linhas (numeros da cartela) 3º com 3 colunas (numeros da cartela)\n",
    "bingo"
   ]
  },
  {
   "cell_type": "markdown",
   "id": "187dac1a-c23c-47e9-aa10-2a7797026443",
   "metadata": {},
   "source": [
    "#### Faça o reshape das suas cartelas para que haja 5 cartelas de 4 linhas e 6 colunas"
   ]
  },
  {
   "cell_type": "code",
   "execution_count": 49,
   "id": "02e48db5-06c5-4be3-8afb-2a52b9faaa25",
   "metadata": {},
   "outputs": [
    {
     "data": {
      "text/plain": [
       "array([[[ 2, 27,  7, 25,  3, 18],\n",
       "        [25,  2,  6,  5, 11,  8],\n",
       "        [19, 27,  4, 16, 29, 21],\n",
       "        [ 8, 11, 29, 12, 21, 26]],\n",
       "\n",
       "       [[15, 10, 13, 18, 26,  1],\n",
       "        [30, 10, 22, 21,  8, 23],\n",
       "        [27, 17, 20, 14, 23, 30],\n",
       "        [ 8, 28, 22,  8,  2, 28]],\n",
       "\n",
       "       [[ 2, 19, 28, 25, 22, 14],\n",
       "        [14, 16, 14, 18, 13, 19],\n",
       "        [ 3, 13,  3,  2, 17, 15],\n",
       "        [ 6,  4,  3, 24, 15, 28]],\n",
       "\n",
       "       [[ 4, 26, 17,  7, 24,  2],\n",
       "        [24, 11, 20, 22,  9, 16],\n",
       "        [ 6,  4, 10,  4, 15,  1],\n",
       "        [27,  7, 23, 12, 12, 15]],\n",
       "\n",
       "       [[30, 25, 25,  8, 26,  6],\n",
       "        [13, 29, 13, 28, 30, 10],\n",
       "        [29,  4, 27, 13, 22, 19],\n",
       "        [10, 13, 30,  4, 24, 17]]])"
      ]
     },
     "execution_count": 49,
     "metadata": {},
     "output_type": "execute_result"
    }
   ],
   "source": [
    "new_bingo = bingo.reshape((5,4,6))\n",
    "new_bingo"
   ]
  },
  {
   "cell_type": "markdown",
   "id": "88089641-3522-41ad-95b5-43c0b1ca21f7",
   "metadata": {},
   "source": [
    "## 1.3 No conjunto 'especies'.\n",
    "\n",
    "*   Adicione mais 2 espécies ao array: [[204, 10, 40, 12], [392, 11, 81, 11]]\n",
    "*   Adicione mais uma coluna no array original agora com o número de espécies encontradas com que indica se o animal enxerga ou não: [0, 1, 0, 0, 0, 0, 1, 0, 1, 1, 0]\n",
    "* Faça um array com todas as especies menos as com ID 623, 116,613\n"
   ]
  },
  {
   "cell_type": "code",
   "execution_count": 29,
   "id": "c05542a2-b19b-446a-8b83-d3e506047add",
   "metadata": {},
   "outputs": [
    {
     "data": {
      "text/plain": [
       "array([[747,  89,  33,   5],\n",
       "       [623, 123,  32,  13],\n",
       "       [501,  22,  49,   2],\n",
       "       [116, 101,  42,  10],\n",
       "       [297,  56,  69,  22],\n",
       "       [613,  64,  27,   7],\n",
       "       [295,  84,  29,  14],\n",
       "       [692, 105,  72,  16],\n",
       "       [229, 103,  35,   5],\n",
       "       [374, 124,  70,   1]])"
      ]
     },
     "execution_count": 29,
     "metadata": {},
     "output_type": "execute_result"
    }
   ],
   "source": [
    "#ID da espécie, quantidade de representantes encontrados, profundeza, tamanho médio da espécie\n",
    "especies = np.array([[747,  89,  33,   5],\n",
    "                    [623, 123,  32,  13],\n",
    "                    [501,  22,  49,   2],\n",
    "                    [116, 101,  42,  10],\n",
    "                    [297,  56,  69,  22],\n",
    "                    [613,  64,  27,   7],\n",
    "                    [295,  84,  29,  14],\n",
    "                    [692, 105,  72,  16],\n",
    "                    [229, 103,  35,   5],\n",
    "                    [374, 124,  70,   1]])\n",
    "especies"
   ]
  },
  {
   "cell_type": "code",
   "execution_count": 31,
   "id": "24c88827-db30-488d-8051-01fcf0a26809",
   "metadata": {},
   "outputs": [
    {
     "data": {
      "text/plain": [
       "array([[204,  10,  40,  12],\n",
       "       [392,  11,  81,  11]])"
      ]
     },
     "execution_count": 31,
     "metadata": {},
     "output_type": "execute_result"
    }
   ],
   "source": [
    "new_especies = np.array(\n",
    "    [[204, 10, 40, 12], \n",
    "     [392, 11, 81, 11]]\n",
    "\n",
    ")\n",
    "new_especies"
   ]
  },
  {
   "cell_type": "code",
   "execution_count": 32,
   "id": "d0ef38b0-06d1-4964-b73c-71bbd2267a01",
   "metadata": {},
   "outputs": [
    {
     "data": {
      "text/plain": [
       "array([[747,  89,  33,   5],\n",
       "       [623, 123,  32,  13],\n",
       "       [501,  22,  49,   2],\n",
       "       [116, 101,  42,  10],\n",
       "       [297,  56,  69,  22],\n",
       "       [613,  64,  27,   7],\n",
       "       [295,  84,  29,  14],\n",
       "       [692, 105,  72,  16],\n",
       "       [229, 103,  35,   5],\n",
       "       [374, 124,  70,   1],\n",
       "       [204,  10,  40,  12],\n",
       "       [392,  11,  81,  11]])"
      ]
     },
     "execution_count": 32,
     "metadata": {},
     "output_type": "execute_result"
    }
   ],
   "source": [
    "especies = np.concatenate((especies, new_especies))\n",
    "especies"
   ]
  },
  {
   "cell_type": "code",
   "execution_count": 41,
   "id": "867c96ec-cfdb-4858-8789-eb5791b8a02e",
   "metadata": {},
   "outputs": [
    {
     "data": {
      "text/plain": [
       "array([[0],\n",
       "       [1],\n",
       "       [0],\n",
       "       [0],\n",
       "       [0],\n",
       "       [0],\n",
       "       [1],\n",
       "       [0],\n",
       "       [1],\n",
       "       [1],\n",
       "       [0],\n",
       "       [1]])"
      ]
     },
     "execution_count": 41,
     "metadata": {},
     "output_type": "execute_result"
    }
   ],
   "source": [
    "col_visao = np.array(\n",
    "[[0, 1, 0, 0, 0, 0, 1, 0, 1, 1, 0,1]]\n",
    ").reshape(12,1)\n",
    "col_visao"
   ]
  },
  {
   "cell_type": "code",
   "execution_count": 44,
   "id": "10f6fcd8-7afc-4cf1-ac93-576b2835ee26",
   "metadata": {},
   "outputs": [
    {
     "data": {
      "text/plain": [
       "array([[747,  89,  33,   5,   0,   0,   0],\n",
       "       [623, 123,  32,  13,   1,   1,   1],\n",
       "       [501,  22,  49,   2,   0,   0,   0],\n",
       "       [116, 101,  42,  10,   0,   0,   0],\n",
       "       [297,  56,  69,  22,   0,   0,   0],\n",
       "       [613,  64,  27,   7,   0,   0,   0],\n",
       "       [295,  84,  29,  14,   1,   1,   1],\n",
       "       [692, 105,  72,  16,   0,   0,   0],\n",
       "       [229, 103,  35,   5,   1,   1,   1],\n",
       "       [374, 124,  70,   1,   1,   1,   1],\n",
       "       [204,  10,  40,  12,   0,   0,   0],\n",
       "       [392,  11,  81,  11,   1,   1,   1]])"
      ]
     },
     "execution_count": 44,
     "metadata": {},
     "output_type": "execute_result"
    }
   ],
   "source": [
    "especies = np.concatenate((especies,col_visao), axis=1)\n",
    "especies"
   ]
  },
  {
   "cell_type": "code",
   "execution_count": 53,
   "id": "59f5dad8-67fe-4c8a-b850-9852850a2c22",
   "metadata": {},
   "outputs": [],
   "source": [
    "especies = np.delete(especies,5,axis=1)"
   ]
  },
  {
   "cell_type": "code",
   "execution_count": 55,
   "id": "43957011-d003-4852-a8cb-df645c814580",
   "metadata": {},
   "outputs": [
    {
     "data": {
      "text/plain": [
       "array([[747,  89,  33,   5,   0],\n",
       "       [623, 123,  32,  13,   1],\n",
       "       [501,  22,  49,   2,   0],\n",
       "       [116, 101,  42,  10,   0],\n",
       "       [297,  56,  69,  22,   0],\n",
       "       [613,  64,  27,   7,   0],\n",
       "       [295,  84,  29,  14,   1],\n",
       "       [692, 105,  72,  16,   0],\n",
       "       [229, 103,  35,   5,   1],\n",
       "       [374, 124,  70,   1,   1],\n",
       "       [204,  10,  40,  12,   0],\n",
       "       [392,  11,  81,  11,   1]])"
      ]
     },
     "execution_count": 55,
     "metadata": {},
     "output_type": "execute_result"
    }
   ],
   "source": [
    "especies"
   ]
  },
  {
   "cell_type": "code",
   "execution_count": 67,
   "id": "09509bdc-b643-455f-8bc6-b68e2c1c3efa",
   "metadata": {},
   "outputs": [
    {
     "data": {
      "text/plain": [
       "array([[747,  89,  33,   5,   0],\n",
       "       [501,  22,  49,   2,   0],\n",
       "       [116, 101,  42,  10,   0],\n",
       "       [297,  56,  69,  22,   0],\n",
       "       [613,  64,  27,   7,   0],\n",
       "       [295,  84,  29,  14,   1],\n",
       "       [692, 105,  72,  16,   0],\n",
       "       [229, 103,  35,   5,   1],\n",
       "       [374, 124,  70,   1,   1],\n",
       "       [204,  10,  40,  12,   0],\n",
       "       [392,  11,  81,  11,   1]])"
      ]
     },
     "execution_count": 67,
     "metadata": {},
     "output_type": "execute_result"
    }
   ],
   "source": [
    "# Faça um array com todas as especies menos as com ID 623, 116,613\n",
    "\n",
    "novas_especies = np.delete(especies,1,axis=0)\n",
    "novas_especies"
   ]
  },
  {
   "cell_type": "code",
   "execution_count": 68,
   "id": "309c0378-2e2f-4f05-a644-e12d20a8f3ca",
   "metadata": {},
   "outputs": [
    {
     "data": {
      "text/plain": [
       "array([[747,  89,  33,   5,   0],\n",
       "       [501,  22,  49,   2,   0],\n",
       "       [297,  56,  69,  22,   0],\n",
       "       [613,  64,  27,   7,   0],\n",
       "       [295,  84,  29,  14,   1],\n",
       "       [692, 105,  72,  16,   0],\n",
       "       [229, 103,  35,   5,   1],\n",
       "       [374, 124,  70,   1,   1],\n",
       "       [204,  10,  40,  12,   0],\n",
       "       [392,  11,  81,  11,   1]])"
      ]
     },
     "execution_count": 68,
     "metadata": {},
     "output_type": "execute_result"
    }
   ],
   "source": [
    "novas_especies = np.delete(novas_especies,2,axis=0)\n",
    "novas_especies"
   ]
  },
  {
   "cell_type": "code",
   "execution_count": 70,
   "id": "4f82a1b4-be42-48f9-bc30-28dbe0658ba2",
   "metadata": {},
   "outputs": [
    {
     "data": {
      "text/plain": [
       "array([[747,  89,  33,   5,   0],\n",
       "       [501,  22,  49,   2,   0],\n",
       "       [297,  56,  69,  22,   0],\n",
       "       [295,  84,  29,  14,   1],\n",
       "       [692, 105,  72,  16,   0],\n",
       "       [229, 103,  35,   5,   1],\n",
       "       [374, 124,  70,   1,   1],\n",
       "       [204,  10,  40,  12,   0],\n",
       "       [392,  11,  81,  11,   1]])"
      ]
     },
     "execution_count": 70,
     "metadata": {},
     "output_type": "execute_result"
    }
   ],
   "source": [
    "novas_especies  = np.delete(novas_especies,3,axis=0)\n",
    "novas_especies"
   ]
  },
  {
   "cell_type": "code",
   "execution_count": null,
   "id": "ee97e429-2dda-456c-bc32-4691ca6f461c",
   "metadata": {},
   "outputs": [],
   "source": []
  }
 ],
 "metadata": {
  "kernelspec": {
   "display_name": "Python 3 (ipykernel)",
   "language": "python",
   "name": "python3"
  },
  "language_info": {
   "codemirror_mode": {
    "name": "ipython",
    "version": 3
   },
   "file_extension": ".py",
   "mimetype": "text/x-python",
   "name": "python",
   "nbconvert_exporter": "python",
   "pygments_lexer": "ipython3",
   "version": "3.9.18"
  }
 },
 "nbformat": 4,
 "nbformat_minor": 5
}
