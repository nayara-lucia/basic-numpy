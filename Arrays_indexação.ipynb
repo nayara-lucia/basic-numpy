{
 "cells": [
  {
   "cell_type": "code",
   "execution_count": 14,
   "id": "323c868d-d32c-402b-baa6-88418275f016",
   "metadata": {},
   "outputs": [],
   "source": [
    "import numpy as np"
   ]
  },
  {
   "cell_type": "code",
   "execution_count": 18,
   "id": "60b32332-4fc4-4fa3-b486-076c8a7f7911",
   "metadata": {},
   "outputs": [
    {
     "data": {
      "text/plain": [
       "array([5, 6, 4, 3, 7, 8, 9])"
      ]
     },
     "execution_count": 18,
     "metadata": {},
     "output_type": "execute_result"
    }
   ],
   "source": [
    "array1d = np.array([5,6,4,3,7,8,9])\n",
    "array1d"
   ]
  },
  {
   "cell_type": "code",
   "execution_count": 15,
   "id": "7bb5d23c-23cf-41c5-bec3-7e1003ffc042",
   "metadata": {},
   "outputs": [
    {
     "data": {
      "text/plain": [
       "array([[ 2,  0, 15],\n",
       "       [10, 16, 22],\n",
       "       [12, 21,  2]])"
      ]
     },
     "execution_count": 15,
     "metadata": {},
     "output_type": "execute_result"
    }
   ],
   "source": [
    "array = np.random.randint(0,30, size=(3,3))\n",
    "\n",
    "array"
   ]
  },
  {
   "cell_type": "code",
   "execution_count": 16,
   "id": "b1f4c53d-6b2a-46a5-994b-bbf66962cacf",
   "metadata": {},
   "outputs": [
    {
     "data": {
      "text/plain": [
       "array([[ 0,  4],\n",
       "       [ 8, 12],\n",
       "       [16, 20],\n",
       "       [24, 28],\n",
       "       [32, 36]])"
      ]
     },
     "execution_count": 16,
     "metadata": {},
     "output_type": "execute_result"
    }
   ],
   "source": [
    "array_array = np.arange(0,40,4)\n",
    "array_array\n",
    "\n",
    "array2= array_array.reshape(5,2)\n",
    "array2"
   ]
  },
  {
   "cell_type": "markdown",
   "id": "0461449e-4155-4528-bd03-c5558631b63c",
   "metadata": {},
   "source": [
    "### Index array 1D"
   ]
  },
  {
   "cell_type": "code",
   "execution_count": 22,
   "id": "c503b487-5af4-4ec9-8478-45f9f5e11700",
   "metadata": {},
   "outputs": [
    {
     "data": {
      "text/plain": [
       "4"
      ]
     },
     "execution_count": 22,
     "metadata": {},
     "output_type": "execute_result"
    }
   ],
   "source": [
    "# Como em listas\n",
    "array1d[0]\n",
    "array1d[1]\n",
    "array1d[2]"
   ]
  },
  {
   "cell_type": "markdown",
   "id": "38c6cdb4-a336-4fb9-8306-cf9d06d81b9f",
   "metadata": {},
   "source": [
    "### Index array 2D"
   ]
  },
  {
   "cell_type": "code",
   "execution_count": 29,
   "id": "3ea421a3-1d0f-4aba-a1c0-7d9c0ddef930",
   "metadata": {},
   "outputs": [
    {
     "data": {
      "text/plain": [
       "22"
      ]
     },
     "execution_count": 29,
     "metadata": {},
     "output_type": "execute_result"
    }
   ],
   "source": [
    "# Primeiro numero: Linha\n",
    "# Segundo numero: Col\n",
    "\n",
    "array2[0,1]\n",
    "array[1,2]"
   ]
  },
  {
   "cell_type": "code",
   "execution_count": 31,
   "id": "dc40ac7c-d820-4f02-b496-4571c6796b64",
   "metadata": {},
   "outputs": [
    {
     "data": {
      "text/plain": [
       "array([ 2,  0, 15])"
      ]
     },
     "execution_count": 31,
     "metadata": {},
     "output_type": "execute_result"
    }
   ],
   "source": [
    "array[0] # Pega todos os itens da linha"
   ]
  },
  {
   "cell_type": "markdown",
   "id": "5b4fa1c4-b5bd-47ee-b6b6-f2d56e8911d0",
   "metadata": {},
   "source": [
    "### Slicing"
   ]
  },
  {
   "cell_type": "markdown",
   "id": "0d8f6dcd-82bc-49e1-9b16-35f5bf463a1b",
   "metadata": {},
   "source": [
    "### :,"
   ]
  },
  {
   "cell_type": "code",
   "execution_count": 33,
   "id": "f696a502-2027-4507-9bbb-8ed17462ae21",
   "metadata": {},
   "outputs": [
    {
     "data": {
      "text/plain": [
       "array([ 0,  8, 16, 24, 32])"
      ]
     },
     "execution_count": 33,
     "metadata": {},
     "output_type": "execute_result"
    }
   ],
   "source": [
    "array2[:,0] # Pega todos os itens da coluna\n",
    "\n",
    "#:, significa todos os itens\n",
    "# segunda posição = col"
   ]
  },
  {
   "cell_type": "code",
   "execution_count": 34,
   "id": "e4fb98aa-e806-4b21-a201-69d6575d4e09",
   "metadata": {},
   "outputs": [
    {
     "data": {
      "text/plain": [
       "array([ 0, 16, 21])"
      ]
     },
     "execution_count": 34,
     "metadata": {},
     "output_type": "execute_result"
    }
   ],
   "source": [
    "array[:,1]"
   ]
  },
  {
   "cell_type": "code",
   "execution_count": 35,
   "id": "6ae9a907-a80c-470b-9276-aa30b0c7fa12",
   "metadata": {},
   "outputs": [
    {
     "data": {
      "text/plain": [
       "array([5, 6, 4, 3])"
      ]
     },
     "execution_count": 35,
     "metadata": {},
     "output_type": "execute_result"
    }
   ],
   "source": [
    "array1d[0:4] # Do index 0 ao 4"
   ]
  },
  {
   "cell_type": "code",
   "execution_count": 39,
   "id": "57923036-95c6-415f-94aa-63306cdd22a3",
   "metadata": {},
   "outputs": [
    {
     "data": {
      "text/plain": [
       "array([[10, 16],\n",
       "       [12, 21]])"
      ]
     },
     "execution_count": 39,
     "metadata": {},
     "output_type": "execute_result"
    }
   ],
   "source": [
    "array[1:3, 0:2] # Da linha 1 a 3 a Coluna 0 a 2"
   ]
  },
  {
   "cell_type": "markdown",
   "id": "eb88880a-ab22-4b6b-8e58-1a1dd1117980",
   "metadata": {},
   "source": [
    "### Sorting"
   ]
  },
  {
   "cell_type": "code",
   "execution_count": 40,
   "id": "0cb40b02-81fa-46c9-b0cf-0b6083cc3e7c",
   "metadata": {},
   "outputs": [
    {
     "data": {
      "text/plain": [
       "array([[ 0,  2, 15],\n",
       "       [10, 16, 22],\n",
       "       [ 2, 12, 21]])"
      ]
     },
     "execution_count": 40,
     "metadata": {},
     "output_type": "execute_result"
    }
   ],
   "source": [
    "np.sort(array) # Por default organiza em ordem crescente as colunas"
   ]
  },
  {
   "cell_type": "code",
   "execution_count": 42,
   "id": "767c859a-51ba-4e83-a560-31b11195f49d",
   "metadata": {},
   "outputs": [
    {
     "data": {
      "text/plain": [
       "array([[ 2,  0,  2],\n",
       "       [10, 16, 15],\n",
       "       [12, 21, 22]])"
      ]
     },
     "execution_count": 42,
     "metadata": {},
     "output_type": "execute_result"
    }
   ],
   "source": [
    "np.sort(array, axis=0)"
   ]
  },
  {
   "cell_type": "code",
   "execution_count": 43,
   "id": "16cb3d88-320c-4f7c-885a-bcd7570938d4",
   "metadata": {},
   "outputs": [
    {
     "data": {
      "text/plain": [
       "array([[ 0,  2, 15],\n",
       "       [10, 16, 22],\n",
       "       [ 2, 12, 21]])"
      ]
     },
     "execution_count": 43,
     "metadata": {},
     "output_type": "execute_result"
    }
   ],
   "source": [
    "np.sort(array, axis=1)"
   ]
  },
  {
   "cell_type": "markdown",
   "id": "63131555-11dc-4e07-b4d8-46df4ed506ad",
   "metadata": {},
   "source": [
    "  "
   ]
  },
  {
   "cell_type": "markdown",
   "id": "75016fa0-6390-4f1a-9270-259ea94cde9d",
   "metadata": {},
   "source": [
    "  "
   ]
  },
  {
   "cell_type": "markdown",
   "id": "8cc226b7-8e48-4b01-89a3-2db47803f5ba",
   "metadata": {},
   "source": [
    "  "
   ]
  },
  {
   "cell_type": "markdown",
   "id": "d8a93fe8-b1f8-4056-950c-65f27307734c",
   "metadata": {},
   "source": [
    "  "
   ]
  },
  {
   "cell_type": "markdown",
   "id": "c20c8f21-1a99-46f7-89a7-b6c015ad93b1",
   "metadata": {},
   "source": [
    "  "
   ]
  },
  {
   "cell_type": "markdown",
   "id": "de62eac7-dac9-4b95-b6cf-ac0d84f23fe9",
   "metadata": {},
   "source": [
    "# Atividades"
   ]
  },
  {
   "cell_type": "markdown",
   "id": "722a6d2a-7330-425c-bfe5-2f8dc01851ef",
   "metadata": {},
   "source": [
    "Explorando Ecossistemas:\n",
    "Como bióloga marinha, me encontrei em uma expedição nas profundezas do Oceano Pacífico, onde estávamos estudando a biodiversidade e a saúde dos recifes de coral. O catálogo abaixo demonstra dados das espécies encontradas, considere a seguinte ordem de colunas:\n",
    "\n",
    "<strong>ID da espécie, quantidade de representantes encontrados, profundeza, tamanho médio da espécie</strong>\n",
    "\n",
    "* Selecione a segunda coluna com a quantidade de espécies encontradas e adicione em um array as qtd_especies.\n",
    "* De qtd_especies selecione apenas as primeiras 3 quantidades e print\n",
    "* Print as 5 últimas quantidades de espécies\n",
    "* Crie um array que contenha apenas os tamanhos das espécies e ordene por ordem crescente"
   ]
  },
  {
   "cell_type": "code",
   "execution_count": 74,
   "id": "35a57f6c-725c-48ba-a3bc-ecda86bf474d",
   "metadata": {},
   "outputs": [
    {
     "data": {
      "text/plain": [
       "array([[747,  89,  33,   5],\n",
       "       [623, 123,  32,  13],\n",
       "       [501,  22,  49,   2],\n",
       "       [116, 101,  42,  10],\n",
       "       [297,  56,  69,  22],\n",
       "       [613,  64,  27,   7],\n",
       "       [295,  84,  29,  14],\n",
       "       [692, 105,  72,  16],\n",
       "       [229, 103,  35,   5],\n",
       "       [374, 124,  70,   1]])"
      ]
     },
     "execution_count": 74,
     "metadata": {},
     "output_type": "execute_result"
    }
   ],
   "source": [
    "especies = np.array([[747,  89,  33,   5],\n",
    "                    [623, 123,  32,  13],\n",
    "                    [501,  22,  49,   2],\n",
    "                    [116, 101,  42,  10],\n",
    "                    [297,  56,  69,  22],\n",
    "                    [613,  64,  27,   7],\n",
    "                    [295,  84,  29,  14],\n",
    "                    [692, 105,  72,  16],\n",
    "                    [229, 103,  35,   5],\n",
    "                    [374, 124,  70,   1]])\n",
    "especies"
   ]
  },
  {
   "cell_type": "code",
   "execution_count": 75,
   "id": "93776be8-b130-4c05-8aa5-013f8f6122af",
   "metadata": {},
   "outputs": [
    {
     "data": {
      "text/plain": [
       "array([ 89, 123,  22, 101,  56,  64,  84, 105, 103, 124])"
      ]
     },
     "execution_count": 75,
     "metadata": {},
     "output_type": "execute_result"
    }
   ],
   "source": [
    "qntd_especies = especies[:,1]\n",
    "qntd_especies"
   ]
  },
  {
   "cell_type": "code",
   "execution_count": 46,
   "id": "742b75a5-05f4-40ef-bd52-ec962e4b0e8d",
   "metadata": {},
   "outputs": [
    {
     "data": {
      "text/plain": [
       "array([ 89, 123,  22])"
      ]
     },
     "execution_count": 46,
     "metadata": {},
     "output_type": "execute_result"
    }
   ],
   "source": [
    "tres_primeiras = qntd_especies[0:3]\n",
    "tres_primeiras"
   ]
  },
  {
   "cell_type": "code",
   "execution_count": 52,
   "id": "7d597914-1abc-4451-bcdb-b1a47ab28c92",
   "metadata": {},
   "outputs": [
    {
     "data": {
      "text/plain": [
       "array([ 64,  84, 105, 103, 124])"
      ]
     },
     "execution_count": 52,
     "metadata": {},
     "output_type": "execute_result"
    }
   ],
   "source": [
    "cinco_ultimas = qntd_especies[-5:]\n",
    "cinco_ultimas"
   ]
  },
  {
   "cell_type": "code",
   "execution_count": 73,
   "id": "486676b2-bd85-466b-961e-27312b1114ff",
   "metadata": {},
   "outputs": [
    {
     "data": {
      "text/plain": [
       "array([ 5, 13,  2, 10, 22,  7, 14, 16,  5,  1])"
      ]
     },
     "execution_count": 73,
     "metadata": {},
     "output_type": "execute_result"
    }
   ],
   "source": [
    "tamanhos = especies[:,3]\n",
    "tamanhos"
   ]
  },
  {
   "cell_type": "code",
   "execution_count": 76,
   "id": "f2b2efb6-c337-43cb-89bb-4095f3061af2",
   "metadata": {},
   "outputs": [
    {
     "data": {
      "text/plain": [
       "array([ 1,  2,  5,  5,  7, 10, 13, 14, 16, 22])"
      ]
     },
     "execution_count": 76,
     "metadata": {},
     "output_type": "execute_result"
    }
   ],
   "source": [
    "tamanhos_ordenados = np.sort(tamanhos)\n",
    "tamanhos_ordenados"
   ]
  },
  {
   "cell_type": "code",
   "execution_count": 78,
   "id": "de27cee1-9641-4e94-a3bf-34387e49b451",
   "metadata": {},
   "outputs": [
    {
     "data": {
      "text/plain": [
       "array([ 1,  2,  5,  5,  7, 10, 13, 14, 16, 22])"
      ]
     },
     "execution_count": 78,
     "metadata": {},
     "output_type": "execute_result"
    }
   ],
   "source": [
    "np.sort(especies[:,3])"
   ]
  },
  {
   "cell_type": "code",
   "execution_count": 80,
   "id": "dd198a2a-26c0-467b-90ef-6674980a05c0",
   "metadata": {},
   "outputs": [
    {
     "data": {
      "text/plain": [
       "array([22, 16, 14, 13, 10,  7,  5,  5,  2,  1])"
      ]
     },
     "execution_count": 80,
     "metadata": {},
     "output_type": "execute_result"
    }
   ],
   "source": [
    "np.sort(especies[:,3])[::-1] # [::-1] todas as linhas e todas as colunas -1 (decrescente)"
   ]
  },
  {
   "cell_type": "code",
   "execution_count": null,
   "id": "e44587ee-6cd6-4d87-8df6-b6eacd7b085c",
   "metadata": {},
   "outputs": [],
   "source": []
  }
 ],
 "metadata": {
  "kernelspec": {
   "display_name": "Python 3 (ipykernel)",
   "language": "python",
   "name": "python3"
  },
  "language_info": {
   "codemirror_mode": {
    "name": "ipython",
    "version": 3
   },
   "file_extension": ".py",
   "mimetype": "text/x-python",
   "name": "python",
   "nbconvert_exporter": "python",
   "pygments_lexer": "ipython3",
   "version": "3.9.18"
  }
 },
 "nbformat": 4,
 "nbformat_minor": 5
}
