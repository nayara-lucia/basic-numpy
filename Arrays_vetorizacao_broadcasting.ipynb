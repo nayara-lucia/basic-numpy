{
 "cells": [
  {
   "cell_type": "code",
   "execution_count": 3,
   "id": "2582dbf2-532d-4121-8f8c-83ee6ba2d6e9",
   "metadata": {},
   "outputs": [],
   "source": [
    "import numpy as np"
   ]
  },
  {
   "cell_type": "code",
   "execution_count": 25,
   "id": "ee7b61ed-7d2a-4e6d-a7a8-d23748eb4098",
   "metadata": {},
   "outputs": [
    {
     "data": {
      "text/plain": [
       "array([[1, 2],\n",
       "       [4, 5]])"
      ]
     },
     "execution_count": 25,
     "metadata": {},
     "output_type": "execute_result"
    }
   ],
   "source": [
    "arr = np.array([[1,2],[4,5]])\n",
    "arr"
   ]
  },
  {
   "cell_type": "markdown",
   "id": "86c0ed44-9fe7-4618-8473-cbc287ecf14f",
   "metadata": {},
   "source": [
    "### Operações Python vs Numpy"
   ]
  },
  {
   "cell_type": "markdown",
   "id": "15ae88a1-023b-486e-8982-94e7e677aa47",
   "metadata": {},
   "source": [
    "Ao realizar a soma de elementos em um array utilizando o NumPy, a operação não ocorre de forma <strong>individual</strong> para cada elemento; em vez disso, ela é realizada de maneira <strong>simultânea</strong> para todos os elementos\n",
    "do array.\n",
    "\n",
    "Por isso não precisamos fazer um loop como em python para alcançar o mesmo resultado"
   ]
  },
  {
   "cell_type": "code",
   "execution_count": 24,
   "id": "9c40e4b0-4478-4f52-ac8d-c6ac6c6b745e",
   "metadata": {},
   "outputs": [
    {
     "data": {
      "text/plain": [
       "array([[4, 5],\n",
       "       [7, 8]])"
      ]
     },
     "execution_count": 26,
     "metadata": {},
     "output_type": "execute_result"
    }
   ],
   "source": [
    "for linha in range(0, 2):\n",
    "\tfor coluna in range(0,2):\n",
    "\t\tarr[linha][coluna]+=3\n",
    "arr\n",
    "\n",
    "# ou\n",
    "# for linha in range(0, arr.shape[0]):\n",
    "#\tfor coluna in range(0,arr.shape[1]):\n",
    "#\t\tarr[linha][coluna]+=3\n",
    "#arr"
   ]
  },
  {
   "cell_type": "markdown",
   "id": "58e65b0f-337e-487d-b1fa-bd3940d5a12e",
   "metadata": {},
   "source": [
    "Simplificando empregamos um sinal de adição e indicamos ao NumPy o número único que desejamos adicionar a todos os elementos do array."
   ]
  },
  {
   "cell_type": "code",
   "execution_count": 4,
   "id": "6d8987fa-86f5-43fe-af98-efd9bc3ae0da",
   "metadata": {},
   "outputs": [],
   "source": [
    "arr2 = np.array([[1,2],[4,5]])\n",
    "# Simplificado mesmo resultado\n",
    "arr2 +=3"
   ]
  },
  {
   "cell_type": "code",
   "execution_count": 5,
   "id": "e2838c8c-eb94-4adb-823c-a91adec1920f",
   "metadata": {},
   "outputs": [
    {
     "data": {
      "text/plain": [
       "array([[4, 5],\n",
       "       [7, 8]])"
      ]
     },
     "execution_count": 5,
     "metadata": {},
     "output_type": "execute_result"
    }
   ],
   "source": [
    "arr2"
   ]
  },
  {
   "cell_type": "code",
   "execution_count": 7,
   "id": "a56e6acb-5032-4ab4-a97f-045b37df9548",
   "metadata": {},
   "outputs": [
    {
     "data": {
      "text/plain": [
       "array([[ 3,  6],\n",
       "       [12, 15]])"
      ]
     },
     "execution_count": 7,
     "metadata": {},
     "output_type": "execute_result"
    }
   ],
   "source": [
    "arr3 = np.array([[1,2],[4,5]])\n",
    "arr3 *= 3\n",
    "arr3"
   ]
  },
  {
   "cell_type": "markdown",
   "id": "ea000dca-74c6-4863-932c-5904d151c8a1",
   "metadata": {},
   "source": [
    "### np.vectorize()"
   ]
  },
  {
   "cell_type": "markdown",
   "id": "0378c051-c17c-4e96-a629-8085b1c89113",
   "metadata": {},
   "source": [
    "Vetorizar significa que podemos aplicar eficientemente uma função a cada elemento de um array NumPy sem nos preocuparmos com loops explícitos para aplicar em cada elemento.\n",
    "\n",
    "É útil precisamos operar em arrays, mas temos funções projetadas para operar em valores únicos, como o len retornar apenas o tamanho do array e não seus elementos"
   ]
  },
  {
   "cell_type": "code",
   "execution_count": 8,
   "id": "16418060-57f8-46cc-90fc-eda4966b6a27",
   "metadata": {},
   "outputs": [
    {
     "data": {
      "text/plain": [
       "False"
      ]
     },
     "execution_count": 8,
     "metadata": {},
     "output_type": "execute_result"
    }
   ],
   "source": [
    "arr = np.array([\"hello\",\"meninas\",\"coders\"])\n",
    "len(arr) > 5 # Len checa o tamanho de itens do array e não cada item"
   ]
  },
  {
   "cell_type": "code",
   "execution_count": 12,
   "id": "b7defaef-8593-4f9c-b76b-6cbf766e2066",
   "metadata": {},
   "outputs": [],
   "source": [
    "vetorizar_len = np.vectorize(len)"
   ]
  },
  {
   "cell_type": "code",
   "execution_count": 14,
   "id": "91670182-b9ce-4f14-b8df-f51378495c16",
   "metadata": {},
   "outputs": [
    {
     "data": {
      "text/plain": [
       "array([False,  True,  True])"
      ]
     },
     "execution_count": 14,
     "metadata": {},
     "output_type": "execute_result"
    }
   ],
   "source": [
    "vetorizar_len(arr) > 5"
   ]
  },
  {
   "cell_type": "code",
   "execution_count": 15,
   "id": "349c8f90-1cea-4093-b950-7cec18e40b9d",
   "metadata": {},
   "outputs": [],
   "source": [
    "mask = vetorizar_len(arr) > 5"
   ]
  },
  {
   "cell_type": "code",
   "execution_count": 17,
   "id": "c197fdd5-e975-4dab-8a6f-41c93f6ef1a7",
   "metadata": {},
   "outputs": [
    {
     "data": {
      "text/plain": [
       "array(['meninas', 'coders'], dtype='<U7')"
      ]
     },
     "execution_count": 17,
     "metadata": {},
     "output_type": "execute_result"
    }
   ],
   "source": [
    "arr[mask] # Retorna apenas os maiores que 5"
   ]
  },
  {
   "cell_type": "markdown",
   "id": "5484e2a6-d784-4fac-b1cc-ac3de8c95776",
   "metadata": {},
   "source": [
    "<strong>Vetorizando uma função"
   ]
  },
  {
   "cell_type": "code",
   "execution_count": 27,
   "id": "1e163632-16ea-4f40-ae7a-59b8433c731e",
   "metadata": {},
   "outputs": [],
   "source": [
    "def minha_funcao(x):\n",
    "    x = x**2 + 3*x + 1\n",
    "    return x"
   ]
  },
  {
   "cell_type": "code",
   "execution_count": 28,
   "id": "3e2e41e5-a7c6-436d-b97a-21977bc6ba64",
   "metadata": {},
   "outputs": [
    {
     "data": {
      "text/plain": [
       "11"
      ]
     },
     "execution_count": 28,
     "metadata": {},
     "output_type": "execute_result"
    }
   ],
   "source": [
    "minha_funcao(2)"
   ]
  },
  {
   "cell_type": "code",
   "execution_count": 30,
   "id": "f3b537a5-7482-45bc-a2ea-f5546f0358f7",
   "metadata": {},
   "outputs": [],
   "source": [
    "arr = np.array([[1,2],[4,5]])"
   ]
  },
  {
   "cell_type": "code",
   "execution_count": 31,
   "id": "c94ee528-9669-452d-b1dd-bf04883f899f",
   "metadata": {},
   "outputs": [],
   "source": [
    "vetorizar_funcao = np.vectorize(minha_funcao)"
   ]
  },
  {
   "cell_type": "code",
   "execution_count": 32,
   "id": "39f28f3e-b371-4644-a538-4a7c1ad255ff",
   "metadata": {},
   "outputs": [],
   "source": [
    "result = vetorizar_funcao(arr)"
   ]
  },
  {
   "cell_type": "code",
   "execution_count": 33,
   "id": "fcc0e56d-bcae-43e8-93ca-054b9d3cdf22",
   "metadata": {},
   "outputs": [
    {
     "data": {
      "text/plain": [
       "array([[ 5, 11],\n",
       "       [29, 41]])"
      ]
     },
     "execution_count": 33,
     "metadata": {},
     "output_type": "execute_result"
    }
   ],
   "source": [
    "result"
   ]
  },
  {
   "cell_type": "markdown",
   "id": "2215e7e7-cea4-43cb-80c0-9145a044f9b5",
   "metadata": {},
   "source": [
    "### Broadcasting"
   ]
  },
  {
   "cell_type": "markdown",
   "id": "66697f92-c430-4ea7-82ec-e9f00b935beb",
   "metadata": {},
   "source": [
    "O Broadcasting permite que o NumPy execute essas operações mesmo quando as dimensões dos arrays não são as mesmas, seguindo um conjunto de regras específicas."
   ]
  },
  {
   "cell_type": "code",
   "execution_count": 62,
   "id": "eeb9fb8e-aa45-4a49-b45c-40f546b72f5d",
   "metadata": {},
   "outputs": [
    {
     "data": {
      "text/plain": [
       "array([[1, 2],\n",
       "       [4, 5],\n",
       "       [1, 1]])"
      ]
     },
     "execution_count": 62,
     "metadata": {},
     "output_type": "execute_result"
    }
   ],
   "source": [
    "#Broadcasting com colunas\n",
    "\n",
    "arr3x2 = np.array([[1,2],[4,5],[1,1]])\n",
    "arr3x2"
   ]
  },
  {
   "cell_type": "code",
   "execution_count": 63,
   "id": "c5758254-aefe-44a0-a846-e621b602cc2f",
   "metadata": {},
   "outputs": [
    {
     "data": {
      "text/plain": [
       "array([[ 1],\n",
       "       [ 0],\n",
       "       [-1]])"
      ]
     },
     "execution_count": 63,
     "metadata": {},
     "output_type": "execute_result"
    }
   ],
   "source": [
    "arr3x1 = np.array([1,0,-1]).reshape((3,1))\n",
    "arr3x1"
   ]
  },
  {
   "cell_type": "code",
   "execution_count": 64,
   "id": "dc9a3043-ddc2-4d4b-b78a-1aed6ef02061",
   "metadata": {},
   "outputs": [
    {
     "data": {
      "text/plain": [
       "array([[2, 3],\n",
       "       [4, 5],\n",
       "       [0, 0]])"
      ]
     },
     "execution_count": 64,
     "metadata": {},
     "output_type": "execute_result"
    }
   ],
   "source": [
    "arr3x2 + arr3x1"
   ]
  },
  {
   "cell_type": "code",
   "execution_count": 68,
   "id": "ba38f34e-8e7f-4646-b465-702531b50999",
   "metadata": {},
   "outputs": [
    {
     "data": {
      "text/plain": [
       "array([[0, 1, 2, 3, 4],\n",
       "       [5, 6, 7, 8, 9]])"
      ]
     },
     "execution_count": 68,
     "metadata": {},
     "output_type": "execute_result"
    }
   ],
   "source": [
    "#Broadcasting com linhas\n",
    "\n",
    "rray10 = np.arange(10).reshape(2,5)\n",
    "rray10"
   ]
  },
  {
   "cell_type": "code",
   "execution_count": 69,
   "id": "8df8f6e0-e581-4ae9-910c-5965acbb6489",
   "metadata": {},
   "outputs": [
    {
     "data": {
      "text/plain": [
       "array([1, 2, 3, 4, 5])"
      ]
     },
     "execution_count": 69,
     "metadata": {},
     "output_type": "execute_result"
    }
   ],
   "source": [
    "r_r = np.array([1,2,3,4,5])\n",
    "r_r"
   ]
  },
  {
   "cell_type": "code",
   "execution_count": 70,
   "id": "04e9f4fb-bfbd-49be-b991-18a28970fd4b",
   "metadata": {},
   "outputs": [
    {
     "data": {
      "text/plain": [
       "array([[ 1,  3,  5,  7,  9],\n",
       "       [ 6,  8, 10, 12, 14]])"
      ]
     },
     "execution_count": 70,
     "metadata": {},
     "output_type": "execute_result"
    }
   ],
   "source": [
    "rray10 + r_r"
   ]
  },
  {
   "cell_type": "code",
   "execution_count": 72,
   "id": "53626d1d-cf62-451a-af8f-a511e8336a21",
   "metadata": {},
   "outputs": [
    {
     "data": {
      "text/plain": [
       "array([[0, 1, 2, 3, 4],\n",
       "       [5, 6, 7, 8, 9]])"
      ]
     },
     "execution_count": 72,
     "metadata": {},
     "output_type": "execute_result"
    }
   ],
   "source": [
    "#Broadcasting com colunas\n",
    "a = np.arange(10).reshape(2,5)\n",
    "a"
   ]
  },
  {
   "cell_type": "code",
   "execution_count": 75,
   "id": "f03aad80-598b-4a85-8d46-0b2b7c767e4f",
   "metadata": {},
   "outputs": [
    {
     "data": {
      "text/plain": [
       "array([[0],\n",
       "       [1]])"
      ]
     },
     "execution_count": 75,
     "metadata": {},
     "output_type": "execute_result"
    }
   ],
   "source": [
    "b = np.arange(2).reshape(2,1)\n",
    "b"
   ]
  },
  {
   "cell_type": "code",
   "execution_count": 76,
   "id": "256747aa-2251-4fdc-bb4e-c7cab7e94967",
   "metadata": {},
   "outputs": [
    {
     "data": {
      "text/plain": [
       "array([[ 0,  1,  2,  3,  4],\n",
       "       [ 6,  7,  8,  9, 10]])"
      ]
     },
     "execution_count": 76,
     "metadata": {},
     "output_type": "execute_result"
    }
   ],
   "source": [
    "a + b"
   ]
  },
  {
   "cell_type": "code",
   "execution_count": null,
   "id": "daf223b3-86bf-4865-a989-e37e4df72626",
   "metadata": {},
   "outputs": [],
   "source": []
  }
 ],
 "metadata": {
  "kernelspec": {
   "display_name": "Python 3 (ipykernel)",
   "language": "python",
   "name": "python3"
  },
  "language_info": {
   "codemirror_mode": {
    "name": "ipython",
    "version": 3
   },
   "file_extension": ".py",
   "mimetype": "text/x-python",
   "name": "python",
   "nbconvert_exporter": "python",
   "pygments_lexer": "ipython3",
   "version": "3.9.18"
  }
 },
 "nbformat": 4,
 "nbformat_minor": 5
}
